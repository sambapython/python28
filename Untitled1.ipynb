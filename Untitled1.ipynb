{
 "cells": [
  {
   "cell_type": "code",
   "execution_count": 1,
   "metadata": {
    "collapsed": false
   },
   "outputs": [
    {
     "name": "stdout",
     "output_type": "stream",
     "text": [
      "starting statements\n",
      "else block started\n",
      "10>20 is false\n",
      "else block ended\n",
      "some other statements in program\n",
      "program ended\n"
     ]
    }
   ],
   "source": [
    "\"\"\"\n",
    "if (boolean expression):\n",
    "    if statements\n",
    "else:\n",
    "    else statements\n",
    "\n",
    "\"\"\"\n",
    "print \"starting statements\"\n",
    "if 10>20:\n",
    "    print \"if block started\"\n",
    "    print \"10>20 is true\"\n",
    "    print \"if lock ended\"\n",
    "else:\n",
    "    print \"else block started\"\n",
    "    print \"10>20 is false\"\n",
    "    print \"else block ended\"\n",
    "print \"some other statements in program\"\n",
    "print \"program ended\""
   ]
  },
  {
   "cell_type": "code",
   "execution_count": 2,
   "metadata": {
    "collapsed": false
   },
   "outputs": [
    {
     "name": "stdout",
     "output_type": "stream",
     "text": [
      "starting statements\n",
      "some other statements in program\n",
      "program ended\n"
     ]
    }
   ],
   "source": [
    "print \"starting statements\"\n",
    "if 10>20:\n",
    "    print \"if block started\"\n",
    "    print \"10>20 is true\"\n",
    "    print \"if lock ended\"\n",
    "print \"some other statements in program\"\n",
    "print \"program ended\""
   ]
  },
  {
   "cell_type": "code",
   "execution_count": 3,
   "metadata": {
    "collapsed": false
   },
   "outputs": [
    {
     "ename": "SyntaxError",
     "evalue": "invalid syntax (<ipython-input-3-d212f41a0802>, line 6)",
     "output_type": "error",
     "traceback": [
      "\u001b[1;36m  File \u001b[1;32m\"<ipython-input-3-d212f41a0802>\"\u001b[1;36m, line \u001b[1;32m6\u001b[0m\n\u001b[1;33m    else:\u001b[0m\n\u001b[1;37m       ^\u001b[0m\n\u001b[1;31mSyntaxError\u001b[0m\u001b[1;31m:\u001b[0m invalid syntax\n"
     ]
    }
   ],
   "source": [
    "print \"starting statements\"\n",
    "if 10>20:\n",
    "    print \"if block started\"\n",
    "    print \"10>20 is true\"\n",
    "print \"if lock ended\"\n",
    "else:\n",
    "    print \"else block started\"\n",
    "    print \"10>20 is false\"\n",
    "    print \"else block ended\"\n",
    "print \"some other statements in program\"\n",
    "print \"program ended\""
   ]
  },
  {
   "cell_type": "code",
   "execution_count": 4,
   "metadata": {
    "collapsed": false
   },
   "outputs": [
    {
     "name": "stdout",
     "output_type": "stream",
     "text": [
      "starting statements\n",
      "if lock ended\n",
      "some other statements in program\n",
      "program ended\n"
     ]
    }
   ],
   "source": [
    "print \"starting statements\"\n",
    "if 10>20:\n",
    "    print \"if block started\"\n",
    "    print \"10>20 is true\"\n",
    "print \"if lock ended\"\n",
    "\n",
    "print \"some other statements in program\"\n",
    "print \"program ended\""
   ]
  },
  {
   "cell_type": "code",
   "execution_count": 5,
   "metadata": {
    "collapsed": false
   },
   "outputs": [
    {
     "name": "stdout",
     "output_type": "stream",
     "text": [
      "starting statements\n",
      "else block started\n",
      "10>20 is false\n",
      "else block ended\n",
      "some other statements in program\n",
      "program ended\n"
     ]
    }
   ],
   "source": [
    "print \"starting statements\"\n",
    "if 10>20:\n",
    "    print \"if block started\"\n",
    "    print \"10>20 is true\"\n",
    "    print \"if lock ended\"\n",
    "else:\n",
    " print \"else block started\"\n",
    " print \"10>20 is false\"\n",
    " print \"else block ended\"\n",
    "print \"some other statements in program\"\n",
    "print \"program ended\""
   ]
  },
  {
   "cell_type": "code",
   "execution_count": 6,
   "metadata": {
    "collapsed": false
   },
   "outputs": [
    {
     "ename": "IndentationError",
     "evalue": "unexpected indent (<ipython-input-6-cd1a4dba6991>, line 4)",
     "output_type": "error",
     "traceback": [
      "\u001b[1;36m  File \u001b[1;32m\"<ipython-input-6-cd1a4dba6991>\"\u001b[1;36m, line \u001b[1;32m4\u001b[0m\n\u001b[1;33m    print \"10>20 is true\"\u001b[0m\n\u001b[1;37m    ^\u001b[0m\n\u001b[1;31mIndentationError\u001b[0m\u001b[1;31m:\u001b[0m unexpected indent\n"
     ]
    }
   ],
   "source": [
    "print \"starting statements\"\n",
    "if 10>20:\n",
    "    print \"if block started\"\n",
    "        print \"10>20 is true\"\n",
    "    print \"if lock ended\"\n",
    "else:\n",
    " print \"else block started\"\n",
    " print \"10>20 is false\"\n",
    " print \"else block ended\"\n",
    "print \"some other statements in program\"\n",
    "print \"program ended\""
   ]
  },
  {
   "cell_type": "code",
   "execution_count": 7,
   "metadata": {
    "collapsed": false
   },
   "outputs": [
    {
     "ename": "IndentationError",
     "evalue": "unexpected indent (<ipython-input-7-ebb20c70a541>, line 4)",
     "output_type": "error",
     "traceback": [
      "\u001b[1;36m  File \u001b[1;32m\"<ipython-input-7-ebb20c70a541>\"\u001b[1;36m, line \u001b[1;32m4\u001b[0m\n\u001b[1;33m    \"10>20 is true\"\u001b[0m\n\u001b[1;37m    ^\u001b[0m\n\u001b[1;31mIndentationError\u001b[0m\u001b[1;31m:\u001b[0m unexpected indent\n"
     ]
    }
   ],
   "source": [
    "print \"starting statements\"\n",
    "if 10>20:\n",
    "    print \"if block started\"\n",
    "         \"10>20 is true\"\n",
    "    print \"if lock ended\"\n",
    "else:\n",
    " print \"else block started\"\n",
    " print \"10>20 is false\"\n",
    " print \"else block ended\"\n",
    "print \"some other statements in program\"\n",
    "print \"program ended\""
   ]
  },
  {
   "cell_type": "code",
   "execution_count": 8,
   "metadata": {
    "collapsed": false
   },
   "outputs": [
    {
     "name": "stdout",
     "output_type": "stream",
     "text": [
      "starting statements\n",
      "else block started\n",
      "10>20 is false\n",
      "else block ended\n",
      "some other statements in program\n",
      "program ended\n"
     ]
    }
   ],
   "source": [
    "print \"starting statements\"\n",
    "if 10>20:\n",
    "    print \"if block started\"\n",
    "    \"10>20 is true\"\n",
    "    print \"if lock ended\"\n",
    "else:\n",
    " print \"else block started\"\n",
    " print \"10>20 is false\"\n",
    " print \"else block ended\"\n",
    "print \"some other statements in program\"\n",
    "print \"program ended\""
   ]
  },
  {
   "cell_type": "code",
   "execution_count": 9,
   "metadata": {
    "collapsed": false
   },
   "outputs": [
    {
     "name": "stdout",
     "output_type": "stream",
     "text": [
      "starting statements\n",
      "Enter a value:2\n",
      "a is greater than ten\n",
      "some other statements in program\n",
      "program ended\n"
     ]
    }
   ],
   "source": [
    "print \"starting statements\"\n",
    "a=raw_input(\"Enter a value:\")\n",
    "if a>10:\n",
    "    print \"a is greater than ten\"\n",
    "else:\n",
    "    print \"a is les than ten\"\n",
    "print \"some other statements in program\"\n",
    "print \"program ended\""
   ]
  },
  {
   "cell_type": "code",
   "execution_count": 10,
   "metadata": {
    "collapsed": false
   },
   "outputs": [
    {
     "name": "stdout",
     "output_type": "stream",
     "text": [
      "starting statements\n",
      "Enter a value:2\n",
      "a is les than ten\n",
      "some other statements in program\n",
      "program ended\n"
     ]
    }
   ],
   "source": [
    "print \"starting statements\"\n",
    "a=raw_input(\"Enter a value:\")\n",
    "a=int(a)\n",
    "if a>10:\n",
    "    print \"a is greater than ten\"\n",
    "else:\n",
    "    print \"a is les than ten\"\n",
    "print \"some other statements in program\"\n",
    "print \"program ended\""
   ]
  },
  {
   "cell_type": "code",
   "execution_count": 11,
   "metadata": {
    "collapsed": false
   },
   "outputs": [
    {
     "name": "stdout",
     "output_type": "stream",
     "text": [
      "starting statements\n",
      "Enter a value:20\n",
      "a is greater than ten\n",
      "some other statements in program\n",
      "program ended\n"
     ]
    }
   ],
   "source": [
    "print \"starting statements\"\n",
    "a=raw_input(\"Enter a value:\")\n",
    "a=int(a)\n",
    "if a>10:\n",
    "    print \"a is greater than ten\"\n",
    "else:\n",
    "    print \"a is les than ten\"\n",
    "print \"some other statements in program\"\n",
    "print \"program ended\""
   ]
  },
  {
   "cell_type": "code",
   "execution_count": 12,
   "metadata": {
    "collapsed": false
   },
   "outputs": [
    {
     "name": "stdout",
     "output_type": "stream",
     "text": [
      "starting statements\n",
      "Enter a value:2\n",
      "a is les than ten\n",
      "some other statements in program\n",
      "program ended\n"
     ]
    }
   ],
   "source": [
    "print \"starting statements\"\n",
    "a=raw_input(\"Enter a value:\")\n",
    "a=int(a)\n",
    "if a>10:\n",
    "    res=\"a is greater than ten\"\n",
    "else:\n",
    "    res=\"a is les than ten\"\n",
    "print res\n",
    "print \"some other statements in program\"\n",
    "print \"program ended\""
   ]
  },
  {
   "cell_type": "code",
   "execution_count": 13,
   "metadata": {
    "collapsed": false
   },
   "outputs": [
    {
     "name": "stdout",
     "output_type": "stream",
     "text": [
      "starting statements\n",
      "Enter a value:3\n",
      "a is les than ten\n",
      "some other statements in program\n",
      "program ended\n"
     ]
    }
   ],
   "source": [
    "print \"starting statements\"\n",
    "a=raw_input(\"Enter a value:\")\n",
    "a=int(a)\n",
    "if a>10:\n",
    "    res=\"a is greater than ten\"\n",
    "else:\n",
    "    res=\"a is les than ten\"\n",
    "print res\n",
    "print \"some other statements in program\"\n",
    "print \"program ended\""
   ]
  },
  {
   "cell_type": "code",
   "execution_count": 14,
   "metadata": {
    "collapsed": false
   },
   "outputs": [
    {
     "name": "stdout",
     "output_type": "stream",
     "text": [
      "starting statements\n",
      "Enter a value:12\n",
      "greater than ten\n",
      "some other statements in program\n",
      "program ended\n"
     ]
    }
   ],
   "source": [
    "print \"starting statements\"\n",
    "a=raw_input(\"Enter a value:\")\n",
    "a=int(a)\n",
    "res=\"greater than ten\" if a>10 else \"less than ten\"\n",
    "print res\n",
    "print \"some other statements in program\"\n",
    "print \"program ended\""
   ]
  },
  {
   "cell_type": "code",
   "execution_count": 15,
   "metadata": {
    "collapsed": false
   },
   "outputs": [
    {
     "name": "stdout",
     "output_type": "stream",
     "text": [
      "starting statements\n",
      "Enter a value:34\n",
      "greater than ten\n",
      "some other statements in program\n",
      "program ended\n"
     ]
    }
   ],
   "source": [
    "print \"starting statements\"\n",
    "a=raw_input(\"Enter a value:\")\n",
    "a=int(a)\n",
    "res=\"greater than ten\" if a>10 else \"less than ten\"\n",
    "print res\n",
    "print \"some other statements in program\"\n",
    "print \"program ended\""
   ]
  },
  {
   "cell_type": "code",
   "execution_count": 16,
   "metadata": {
    "collapsed": false
   },
   "outputs": [
    {
     "name": "stdout",
     "output_type": "stream",
     "text": [
      "1.mango 2.orange 3.apple\n"
     ]
    }
   ],
   "source": [
    "\"\"\"\n",
    "1.mango\n",
    "2.orange\n",
    "3.apple\n",
    "\"\"\"\n",
    "print '1.mango 2.orange 3.apple'"
   ]
  },
  {
   "cell_type": "code",
   "execution_count": 17,
   "metadata": {
    "collapsed": false
   },
   "outputs": [
    {
     "ename": "SyntaxError",
     "evalue": "EOL while scanning string literal (<ipython-input-17-bd1742456435>, line 6)",
     "output_type": "error",
     "traceback": [
      "\u001b[1;36m  File \u001b[1;32m\"<ipython-input-17-bd1742456435>\"\u001b[1;36m, line \u001b[1;32m6\u001b[0m\n\u001b[1;33m    print '1.mango\u001b[0m\n\u001b[1;37m                  ^\u001b[0m\n\u001b[1;31mSyntaxError\u001b[0m\u001b[1;31m:\u001b[0m EOL while scanning string literal\n"
     ]
    }
   ],
   "source": [
    "\"\"\"\n",
    "1.mango\n",
    "2.orange\n",
    "3.apple\n",
    "\"\"\"\n",
    "print '1.mango \n",
    "2.orange \n",
    "3.apple'"
   ]
  },
  {
   "cell_type": "code",
   "execution_count": 18,
   "metadata": {
    "collapsed": false
   },
   "outputs": [
    {
     "name": "stdout",
     "output_type": "stream",
     "text": [
      "1.mango \n",
      "2.orange \n",
      "3.apple\n"
     ]
    }
   ],
   "source": [
    "\"\"\"\n",
    "1.mango\n",
    "2.orange\n",
    "3.apple\n",
    "\"\"\"\n",
    "print '''1.mango \n",
    "2.orange \n",
    "3.apple'''"
   ]
  },
  {
   "cell_type": "code",
   "execution_count": 19,
   "metadata": {
    "collapsed": false
   },
   "outputs": [
    {
     "name": "stdout",
     "output_type": "stream",
     "text": [
      "\n",
      "     1\n",
      "    2  3\n",
      "  4      5\n",
      "6          7\n",
      "\n"
     ]
    }
   ],
   "source": [
    "print \"\"\"\n",
    "     1\n",
    "    2  3\n",
    "  4      5\n",
    "6          7\n",
    "\"\"\""
   ]
  },
  {
   "cell_type": "code",
   "execution_count": 20,
   "metadata": {
    "collapsed": false
   },
   "outputs": [
    {
     "name": "stdout",
     "output_type": "stream",
     "text": [
      "1.mango \n",
      "2.orange \n",
      "3.apple\n"
     ]
    }
   ],
   "source": [
    "\"\"\"\n",
    "1.mango\n",
    "2.orange\n",
    "3.apple\n",
    "\"\"\"\n",
    "print '1.mango \\n2.orange \\n3.apple'"
   ]
  },
  {
   "cell_type": "code",
   "execution_count": 21,
   "metadata": {
    "collapsed": false
   },
   "outputs": [
    {
     "name": "stdout",
     "output_type": "stream",
     "text": [
      "1.mango \n",
      "2.orange \n",
      "3.apple\n",
      "Select fruit:1\n",
      "other statements\n",
      "program ended\n"
     ]
    }
   ],
   "source": [
    "print '1.mango \\n2.orange \\n3.apple'\n",
    "opt=raw_input(\"Select fruit:\")\n",
    "if opt==1:\n",
    "    print \"selected mango\"\n",
    "if opt==2:\n",
    "    print \"selected orange\"\n",
    "if opt==3:\n",
    "    print \"selected apples\"\n",
    "print \"other statements\"\n",
    "print \"program ended\""
   ]
  },
  {
   "cell_type": "code",
   "execution_count": 22,
   "metadata": {
    "collapsed": false
   },
   "outputs": [
    {
     "name": "stdout",
     "output_type": "stream",
     "text": [
      "1.mango \n",
      "2.orange \n",
      "3.apple\n",
      "Select fruit:1\n",
      "selected mango\n",
      "other statements\n",
      "program ended\n"
     ]
    }
   ],
   "source": [
    "print '1.mango \\n2.orange \\n3.apple'\n",
    "opt=raw_input(\"Select fruit:\")\n",
    "if opt=='1':\n",
    "    print \"selected mango\"\n",
    "if opt=='2':\n",
    "    print \"selected orange\"\n",
    "if opt=='3':\n",
    "    print \"selected apples\"\n",
    "print \"other statements\"\n",
    "print \"program ended\""
   ]
  },
  {
   "cell_type": "code",
   "execution_count": 23,
   "metadata": {
    "collapsed": false
   },
   "outputs": [
    {
     "name": "stdout",
     "output_type": "stream",
     "text": [
      "1.mango \n",
      "2.orange \n",
      "3.apple\n",
      "Select fruit:2\n",
      "selected orange\n",
      "other statements\n",
      "program ended\n"
     ]
    }
   ],
   "source": [
    "print '1.mango \\n2.orange \\n3.apple'\n",
    "opt=raw_input(\"Select fruit:\")\n",
    "if opt=='1':\n",
    "    print \"selected mango\"\n",
    "if opt=='2':\n",
    "    print \"selected orange\"\n",
    "if opt=='3':\n",
    "    print \"selected apples\"\n",
    "print \"other statements\"\n",
    "print \"program ended\""
   ]
  },
  {
   "cell_type": "code",
   "execution_count": 24,
   "metadata": {
    "collapsed": false
   },
   "outputs": [
    {
     "name": "stdout",
     "output_type": "stream",
     "text": [
      "1.mango \n",
      "2.orange \n",
      "3.apple\n",
      "Select fruit:3\n",
      "selected apples\n",
      "other statements\n",
      "program ended\n"
     ]
    }
   ],
   "source": [
    "print '1.mango \\n2.orange \\n3.apple'\n",
    "opt=raw_input(\"Select fruit:\")\n",
    "if opt=='1':\n",
    "    print \"selected mango\"\n",
    "if opt=='2':\n",
    "    print \"selected orange\"\n",
    "if opt=='3':\n",
    "    print \"selected apples\"\n",
    "print \"other statements\"\n",
    "print \"program ended\""
   ]
  },
  {
   "cell_type": "code",
   "execution_count": 25,
   "metadata": {
    "collapsed": false
   },
   "outputs": [
    {
     "name": "stdout",
     "output_type": "stream",
     "text": [
      "1.mango \n",
      "2.orange \n",
      "3.apple\n",
      "Select fruit:4\n",
      "other statements\n",
      "program ended\n"
     ]
    }
   ],
   "source": [
    "print '1.mango \\n2.orange \\n3.apple'\n",
    "opt=raw_input(\"Select fruit:\")\n",
    "if opt=='1':\n",
    "    print \"selected mango\"\n",
    "if opt=='2':\n",
    "    print \"selected orange\"\n",
    "if opt=='3':\n",
    "    print \"selected apples\"\n",
    "print \"other statements\"\n",
    "print \"program ended\""
   ]
  },
  {
   "cell_type": "code",
   "execution_count": 26,
   "metadata": {
    "collapsed": false
   },
   "outputs": [
    {
     "name": "stdout",
     "output_type": "stream",
     "text": [
      "1.mango \n",
      "2.orange \n",
      "3.apple\n",
      "Select fruit:4\n",
      "wrong option\n",
      "other statements\n",
      "program ended\n"
     ]
    }
   ],
   "source": [
    "print '1.mango \\n2.orange \\n3.apple'\n",
    "opt=raw_input(\"Select fruit:\")\n",
    "if opt=='1':\n",
    "    print \"selected mango\"\n",
    "if opt=='2':\n",
    "    print \"selected orange\"\n",
    "if opt=='3':\n",
    "    print \"selected apples\"\n",
    "else:\n",
    "    print \"wrong option\"\n",
    "print \"other statements\"\n",
    "print \"program ended\""
   ]
  },
  {
   "cell_type": "code",
   "execution_count": 27,
   "metadata": {
    "collapsed": false
   },
   "outputs": [
    {
     "name": "stdout",
     "output_type": "stream",
     "text": [
      "1.mango \n",
      "2.orange \n",
      "3.apple\n",
      "Select fruit:2\n",
      "selected orange\n",
      "wrong option\n",
      "other statements\n",
      "program ended\n"
     ]
    }
   ],
   "source": [
    "print '1.mango \\n2.orange \\n3.apple'\n",
    "opt=raw_input(\"Select fruit:\")\n",
    "if opt=='1':\n",
    "    print \"selected mango\"\n",
    "if opt=='2':\n",
    "    print \"selected orange\"\n",
    "if opt=='3':\n",
    "    print \"selected apples\"\n",
    "else:\n",
    "    print \"wrong option\"\n",
    "print \"other statements\"\n",
    "print \"program ended\""
   ]
  },
  {
   "cell_type": "code",
   "execution_count": 28,
   "metadata": {
    "collapsed": false
   },
   "outputs": [
    {
     "name": "stdout",
     "output_type": "stream",
     "text": [
      "1.mango \n",
      "2.orange \n",
      "3.apple\n",
      "Select fruit:2\n",
      "wrong option\n",
      "selected orange\n",
      "wrong option\n",
      "other statements\n",
      "program ended\n"
     ]
    }
   ],
   "source": [
    "print '1.mango \\n2.orange \\n3.apple'\n",
    "opt=raw_input(\"Select fruit:\")\n",
    "if opt=='1':\n",
    "    print \"selected mango\"\n",
    "else:\n",
    "    print \"wrong option\"\n",
    "if opt=='2':\n",
    "    print \"selected orange\"\n",
    "else:\n",
    "    print \"wrong option\"\n",
    "if opt=='3':\n",
    "    print \"selected apples\"\n",
    "else:\n",
    "    print \"wrong option\"\n",
    "print \"other statements\"\n",
    "print \"program ended\""
   ]
  },
  {
   "cell_type": "code",
   "execution_count": 29,
   "metadata": {
    "collapsed": false
   },
   "outputs": [
    {
     "name": "stdout",
     "output_type": "stream",
     "text": [
      "1.mango \n",
      "2.orange \n",
      "3.apple\n",
      "Select fruit:2\n",
      "selected orange\n",
      "other statements\n",
      "program ended\n"
     ]
    }
   ],
   "source": [
    "print '1.mango \\n2.orange \\n3.apple'\n",
    "opt=raw_input(\"Select fruit:\")\n",
    "if opt=='1':\n",
    "    print \"selected mango\"\n",
    "elif opt=='2':\n",
    "    print \"selected orange\"\n",
    "elif opt=='3':\n",
    "    print \"selected apples\"\n",
    "else:\n",
    "    print \"wrong option\"\n",
    "print \"other statements\"\n",
    "print \"program ended\""
   ]
  },
  {
   "cell_type": "code",
   "execution_count": 30,
   "metadata": {
    "collapsed": false
   },
   "outputs": [
    {
     "name": "stdout",
     "output_type": "stream",
     "text": [
      "1.mango \n",
      "2.orange \n",
      "3.apple\n",
      "Select fruit:4\n",
      "wrong option\n",
      "other statements\n",
      "program ended\n"
     ]
    }
   ],
   "source": [
    "print '1.mango \\n2.orange \\n3.apple'\n",
    "opt=raw_input(\"Select fruit:\")\n",
    "if opt=='1':\n",
    "    print \"selected mango\"\n",
    "elif opt=='2':\n",
    "    print \"selected orange\"\n",
    "elif opt=='3':\n",
    "    print \"selected apples\"\n",
    "else:\n",
    "    print \"wrong option\"\n",
    "print \"other statements\"\n",
    "print \"program ended\""
   ]
  },
  {
   "cell_type": "code",
   "execution_count": null,
   "metadata": {
    "collapsed": true
   },
   "outputs": [],
   "source": []
  }
 ],
 "metadata": {
  "kernelspec": {
   "display_name": "Python 2",
   "language": "python",
   "name": "python2"
  },
  "language_info": {
   "codemirror_mode": {
    "name": "ipython",
    "version": 2
   },
   "file_extension": ".py",
   "mimetype": "text/x-python",
   "name": "python",
   "nbconvert_exporter": "python",
   "pygments_lexer": "ipython2",
   "version": "2.7.11"
  }
 },
 "nbformat": 4,
 "nbformat_minor": 0
}
