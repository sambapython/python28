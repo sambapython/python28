{
 "cells": [
  {
   "cell_type": "code",
   "execution_count": 2,
   "metadata": {
    "collapsed": false
   },
   "outputs": [
    {
     "name": "stdout",
     "output_type": "stream",
     "text": [
      "50\n",
      "-10\n"
     ]
    }
   ],
   "source": [
    "def fun(a,b):\n",
    "    c=100\n",
    "    return a+b\n",
    "def fun1(a,b):\n",
    "    \n",
    "    return a-b\n",
    "c=20\n",
    "d=30\n",
    "print fun(c,d)\n",
    "print fun1(c,d)\n"
   ]
  },
  {
   "cell_type": "code",
   "execution_count": 3,
   "metadata": {
    "collapsed": true
   },
   "outputs": [],
   "source": [
    "l=[1,2,3,4]"
   ]
  },
  {
   "cell_type": "code",
   "execution_count": 5,
   "metadata": {
    "collapsed": false
   },
   "outputs": [
    {
     "name": "stdout",
     "output_type": "stream",
     "text": [
      "()\n",
      "(10,)\n",
      "(10, 20)\n",
      "(10, 20, 30)\n",
      "(10, 20, 30, 40)\n"
     ]
    }
   ],
   "source": [
    "def fun(*args):\n",
    "    print args\n",
    "fun()\n",
    "fun(10)\n",
    "fun(10,20)\n",
    "fun(10,20,30)\n",
    "fun(10,20,30,40)"
   ]
  },
  {
   "cell_type": "code",
   "execution_count": 6,
   "metadata": {
    "collapsed": false
   },
   "outputs": [
    {
     "ename": "TypeError",
     "evalue": "unbound method oper1() must be called with Emp instance as first argument (got int instance instead)",
     "output_type": "error",
     "traceback": [
      "\u001b[1;31m---------------------------------------------------------------------------\u001b[0m",
      "\u001b[1;31mTypeError\u001b[0m                                 Traceback (most recent call last)",
      "\u001b[1;32m<ipython-input-6-29dadf396292>\u001b[0m in \u001b[0;36m<module>\u001b[1;34m()\u001b[0m\n\u001b[0;32m      4\u001b[0m \u001b[1;33m\u001b[0m\u001b[0m\n\u001b[0;32m      5\u001b[0m \u001b[1;33m\u001b[0m\u001b[0m\n\u001b[1;32m----> 6\u001b[1;33m \u001b[0mEmp\u001b[0m\u001b[1;33m.\u001b[0m\u001b[0moper1\u001b[0m\u001b[1;33m(\u001b[0m\u001b[1;36m10\u001b[0m\u001b[1;33m)\u001b[0m\u001b[1;33m\u001b[0m\u001b[0m\n\u001b[0m",
      "\u001b[1;31mTypeError\u001b[0m: unbound method oper1() must be called with Emp instance as first argument (got int instance instead)"
     ]
    }
   ],
   "source": [
    "class Emp:\n",
    "    def oper1(*args):\n",
    "        print args\n",
    "\n",
    "        \n",
    "Emp.oper1(10)"
   ]
  },
  {
   "cell_type": "code",
   "execution_count": 8,
   "metadata": {
    "collapsed": false
   },
   "outputs": [
    {
     "name": "stdout",
     "output_type": "stream",
     "text": [
      "<__main__.Emp instance at 0x7f23cc0a23f8>\n",
      "(<__main__.Emp instance at 0x7f23cc0a23f8>, 10)\n"
     ]
    }
   ],
   "source": [
    "class Emp:\n",
    "    def oper1(*args):\n",
    "        print args\n",
    "\n",
    "anil = Emp() \n",
    "print anil\n",
    "Emp.oper1(anil,10)"
   ]
  },
  {
   "cell_type": "code",
   "execution_count": 9,
   "metadata": {
    "collapsed": false
   },
   "outputs": [
    {
     "name": "stdout",
     "output_type": "stream",
     "text": [
      "<__main__.Emp instance at 0x7f23cc04c128>\n"
     ]
    },
    {
     "ename": "NameError",
     "evalue": "global name 'oper2' is not defined",
     "output_type": "error",
     "traceback": [
      "\u001b[1;31m---------------------------------------------------------------------------\u001b[0m",
      "\u001b[1;31mNameError\u001b[0m                                 Traceback (most recent call last)",
      "\u001b[1;32m<ipython-input-9-a1480d93d67c>\u001b[0m in \u001b[0;36m<module>\u001b[1;34m()\u001b[0m\n\u001b[0;32m      8\u001b[0m \u001b[0manil\u001b[0m \u001b[1;33m=\u001b[0m \u001b[0mEmp\u001b[0m\u001b[1;33m(\u001b[0m\u001b[1;33m)\u001b[0m\u001b[1;33m\u001b[0m\u001b[0m\n\u001b[0;32m      9\u001b[0m \u001b[1;32mprint\u001b[0m \u001b[0manil\u001b[0m\u001b[1;33m\u001b[0m\u001b[0m\n\u001b[1;32m---> 10\u001b[1;33m \u001b[0mEmp\u001b[0m\u001b[1;33m.\u001b[0m\u001b[0moper1\u001b[0m\u001b[1;33m(\u001b[0m\u001b[0manil\u001b[0m\u001b[1;33m,\u001b[0m\u001b[1;36m10\u001b[0m\u001b[1;33m)\u001b[0m\u001b[1;33m\u001b[0m\u001b[0m\n\u001b[0m",
      "\u001b[1;32m<ipython-input-9-a1480d93d67c>\u001b[0m in \u001b[0;36moper1\u001b[1;34m(*args)\u001b[0m\n\u001b[0;32m      3\u001b[0m         \u001b[1;32mprint\u001b[0m \u001b[0margs\u001b[0m\u001b[1;33m\u001b[0m\u001b[0m\n\u001b[0;32m      4\u001b[0m     \u001b[1;32mdef\u001b[0m \u001b[0moper1\u001b[0m\u001b[1;33m(\u001b[0m\u001b[1;33m*\u001b[0m\u001b[0margs\u001b[0m\u001b[1;33m)\u001b[0m\u001b[1;33m:\u001b[0m\u001b[1;33m\u001b[0m\u001b[0m\n\u001b[1;32m----> 5\u001b[1;33m         \u001b[0moper2\u001b[0m\u001b[1;33m(\u001b[0m\u001b[1;36m10\u001b[0m\u001b[1;33m,\u001b[0m\u001b[1;36m20\u001b[0m\u001b[1;33m,\u001b[0m\u001b[1;36m30\u001b[0m\u001b[1;33m)\u001b[0m\u001b[1;33m\u001b[0m\u001b[0m\n\u001b[0m\u001b[0;32m      6\u001b[0m         \u001b[1;32mprint\u001b[0m \u001b[0margs\u001b[0m\u001b[1;33m\u001b[0m\u001b[0m\n\u001b[0;32m      7\u001b[0m \u001b[1;33m\u001b[0m\u001b[0m\n",
      "\u001b[1;31mNameError\u001b[0m: global name 'oper2' is not defined"
     ]
    }
   ],
   "source": [
    "\n",
    "class Emp:\n",
    "    def oper2(*args):\n",
    "        print args\n",
    "    def oper1(*args):\n",
    "        oper2(10,20,30)\n",
    "        print args\n",
    "\n",
    "anil = Emp() \n",
    "print anil\n",
    "Emp.oper1(anil,10)"
   ]
  },
  {
   "cell_type": "code",
   "execution_count": 11,
   "metadata": {
    "collapsed": false
   },
   "outputs": [
    {
     "name": "stdout",
     "output_type": "stream",
     "text": [
      "<__main__.Emp instance at 0x7f23cc04c7a0>\n"
     ]
    },
    {
     "ename": "NameError",
     "evalue": "global name 'name' is not defined",
     "output_type": "error",
     "traceback": [
      "\u001b[1;31m---------------------------------------------------------------------------\u001b[0m",
      "\u001b[1;31mNameError\u001b[0m                                 Traceback (most recent call last)",
      "\u001b[1;32m<ipython-input-11-1e3000f1d506>\u001b[0m in \u001b[0;36m<module>\u001b[1;34m()\u001b[0m\n\u001b[0;32m      5\u001b[0m         \u001b[1;32mreturn\u001b[0m \u001b[0mname\u001b[0m\u001b[1;33m\u001b[0m\u001b[0m\n\u001b[0;32m      6\u001b[0m \u001b[0mname1\u001b[0m\u001b[1;33m=\u001b[0m\u001b[0mEmp\u001b[0m\u001b[1;33m(\u001b[0m\u001b[1;33m)\u001b[0m\u001b[1;33m\u001b[0m\u001b[0m\n\u001b[1;32m----> 7\u001b[1;33m \u001b[0mEmp\u001b[0m\u001b[1;33m.\u001b[0m\u001b[0mgetemp\u001b[0m\u001b[1;33m(\u001b[0m\u001b[0mname1\u001b[0m\u001b[1;33m)\u001b[0m\u001b[1;33m\u001b[0m\u001b[0m\n\u001b[0m",
      "\u001b[1;32m<ipython-input-11-1e3000f1d506>\u001b[0m in \u001b[0;36mgetemp\u001b[1;34m(*args)\u001b[0m\n\u001b[0;32m      3\u001b[0m     \u001b[1;32mdef\u001b[0m \u001b[0mgetemp\u001b[0m\u001b[1;33m(\u001b[0m\u001b[1;33m*\u001b[0m\u001b[0margs\u001b[0m\u001b[1;33m)\u001b[0m\u001b[1;33m:\u001b[0m\u001b[1;33m\u001b[0m\u001b[0m\n\u001b[0;32m      4\u001b[0m         \u001b[1;32mprint\u001b[0m \u001b[0margs\u001b[0m\u001b[1;33m[\u001b[0m\u001b[1;36m0\u001b[0m\u001b[1;33m]\u001b[0m\u001b[1;33m\u001b[0m\u001b[0m\n\u001b[1;32m----> 5\u001b[1;33m         \u001b[1;32mreturn\u001b[0m \u001b[0mname\u001b[0m\u001b[1;33m\u001b[0m\u001b[0m\n\u001b[0m\u001b[0;32m      6\u001b[0m \u001b[0mname1\u001b[0m\u001b[1;33m=\u001b[0m\u001b[0mEmp\u001b[0m\u001b[1;33m(\u001b[0m\u001b[1;33m)\u001b[0m\u001b[1;33m\u001b[0m\u001b[0m\n\u001b[0;32m      7\u001b[0m \u001b[0mEmp\u001b[0m\u001b[1;33m.\u001b[0m\u001b[0mgetemp\u001b[0m\u001b[1;33m(\u001b[0m\u001b[0mname1\u001b[0m\u001b[1;33m)\u001b[0m\u001b[1;33m\u001b[0m\u001b[0m\n",
      "\u001b[1;31mNameError\u001b[0m: global name 'name' is not defined"
     ]
    }
   ],
   "source": [
    "class Emp:\n",
    "    name=\"name1\"\n",
    "    def getemp(*args):\n",
    "        print args[0]\n",
    "        return name\n",
    "name1=Emp()\n",
    "Emp.getemp(name1)"
   ]
  },
  {
   "cell_type": "code",
   "execution_count": 12,
   "metadata": {
    "collapsed": false
   },
   "outputs": [
    {
     "name": "stdout",
     "output_type": "stream",
     "text": [
      "<__main__.Emp instance at 0x7f23cc04c488>\n"
     ]
    },
    {
     "data": {
      "text/plain": [
       "'name1'"
      ]
     },
     "execution_count": 12,
     "metadata": {},
     "output_type": "execute_result"
    }
   ],
   "source": [
    "class Emp:\n",
    "    name=\"name1\"\n",
    "    def getemp(*args):\n",
    "        print args[0]\n",
    "        return args[0].name\n",
    "name1=Emp()\n",
    "Emp.getemp(name1)"
   ]
  },
  {
   "cell_type": "code",
   "execution_count": 13,
   "metadata": {
    "collapsed": false
   },
   "outputs": [
    {
     "name": "stdout",
     "output_type": "stream",
     "text": [
      "<__main__.Emp instance at 0x7f23cc04cbd8>\n"
     ]
    },
    {
     "data": {
      "text/plain": [
       "'name1'"
      ]
     },
     "execution_count": 13,
     "metadata": {},
     "output_type": "execute_result"
    }
   ],
   "source": [
    "class Emp:\n",
    "    name=\"name1\"\n",
    "    def getemp(*args):\n",
    "        print args[0]\n",
    "        return args[0].name\n",
    "name1=Emp()\n",
    "name1.getemp()"
   ]
  },
  {
   "cell_type": "code",
   "execution_count": 14,
   "metadata": {
    "collapsed": false
   },
   "outputs": [
    {
     "name": "stdout",
     "output_type": "stream",
     "text": [
      "<__main__.Emp instance at 0x7f23cc0573f8>\n"
     ]
    },
    {
     "data": {
      "text/plain": [
       "'name1'"
      ]
     },
     "execution_count": 14,
     "metadata": {},
     "output_type": "execute_result"
    }
   ],
   "source": [
    "name=\"name1\"\n",
    "class Emp:\n",
    "    \n",
    "    def getemp(*args):\n",
    "        print args[0]\n",
    "        return name\n",
    "name1=Emp()\n",
    "name1.getemp()"
   ]
  },
  {
   "cell_type": "code",
   "execution_count": 18,
   "metadata": {
    "collapsed": false
   },
   "outputs": [
    {
     "ename": "TypeError",
     "evalue": "unbound method getemp() must be called with Emp instance as first argument (got nothing instead)",
     "output_type": "error",
     "traceback": [
      "\u001b[1;31m---------------------------------------------------------------------------\u001b[0m",
      "\u001b[1;31mTypeError\u001b[0m                                 Traceback (most recent call last)",
      "\u001b[1;32m<ipython-input-18-f5399054bd94>\u001b[0m in \u001b[0;36m<module>\u001b[1;34m()\u001b[0m\n\u001b[0;32m      6\u001b[0m         \u001b[1;32mreturn\u001b[0m \u001b[0mname\u001b[0m\u001b[1;33m\u001b[0m\u001b[0m\n\u001b[0;32m      7\u001b[0m \u001b[0mname1\u001b[0m\u001b[1;33m=\u001b[0m\u001b[0mEmp\u001b[0m\u001b[1;33m(\u001b[0m\u001b[1;33m)\u001b[0m\u001b[1;33m\u001b[0m\u001b[0m\n\u001b[1;32m----> 8\u001b[1;33m \u001b[0mEmp\u001b[0m\u001b[1;33m.\u001b[0m\u001b[0mgetemp\u001b[0m\u001b[1;33m(\u001b[0m\u001b[1;33m)\u001b[0m\u001b[1;33m\u001b[0m\u001b[0m\n\u001b[0m",
      "\u001b[1;31mTypeError\u001b[0m: unbound method getemp() must be called with Emp instance as first argument (got nothing instead)"
     ]
    }
   ],
   "source": [
    "name=\"name1\"\n",
    "class Emp:\n",
    "    \n",
    "    def getemp(*args):\n",
    "        print args[0]\n",
    "        return name\n",
    "name1=Emp()\n",
    "Emp.getemp()"
   ]
  },
  {
   "cell_type": "code",
   "execution_count": 20,
   "metadata": {
    "collapsed": false
   },
   "outputs": [
    {
     "name": "stdout",
     "output_type": "stream",
     "text": [
      "()\n"
     ]
    },
    {
     "ename": "NameError",
     "evalue": "global name 'getemp' is not defined",
     "output_type": "error",
     "traceback": [
      "\u001b[1;31m---------------------------------------------------------------------------\u001b[0m",
      "\u001b[1;31mNameError\u001b[0m                                 Traceback (most recent call last)",
      "\u001b[1;32m<ipython-input-20-d523c966ca54>\u001b[0m in \u001b[0;36m<module>\u001b[1;34m()\u001b[0m\n\u001b[0;32m     10\u001b[0m \u001b[0mname1\u001b[0m\u001b[1;33m=\u001b[0m\u001b[0mEmp\u001b[0m\u001b[1;33m(\u001b[0m\u001b[1;33m)\u001b[0m\u001b[1;33m\u001b[0m\u001b[0m\n\u001b[0;32m     11\u001b[0m \u001b[0mEmp\u001b[0m\u001b[1;33m.\u001b[0m\u001b[0mgetemp\u001b[0m\u001b[1;33m(\u001b[0m\u001b[1;33m)\u001b[0m\u001b[1;33m\u001b[0m\u001b[0m\n\u001b[1;32m---> 12\u001b[1;33m \u001b[0mname1\u001b[0m\u001b[1;33m.\u001b[0m\u001b[0moper2\u001b[0m\u001b[1;33m(\u001b[0m\u001b[1;33m)\u001b[0m\u001b[1;33m\u001b[0m\u001b[0m\n\u001b[0m",
      "\u001b[1;32m<ipython-input-20-d523c966ca54>\u001b[0m in \u001b[0;36moper2\u001b[1;34m(*args)\u001b[0m\n\u001b[0;32m      6\u001b[0m         \u001b[1;32mreturn\u001b[0m \u001b[0mname\u001b[0m\u001b[1;33m\u001b[0m\u001b[0m\n\u001b[0;32m      7\u001b[0m     \u001b[1;32mdef\u001b[0m \u001b[0moper2\u001b[0m\u001b[1;33m(\u001b[0m\u001b[1;33m*\u001b[0m\u001b[0margs\u001b[0m\u001b[1;33m)\u001b[0m\u001b[1;33m:\u001b[0m\u001b[1;33m\u001b[0m\u001b[0m\n\u001b[1;32m----> 8\u001b[1;33m         \u001b[1;32mprint\u001b[0m \u001b[0mgetemp\u001b[0m\u001b[1;33m(\u001b[0m\u001b[1;33m)\u001b[0m\u001b[1;33m\u001b[0m\u001b[0m\n\u001b[0m\u001b[0;32m      9\u001b[0m \u001b[1;33m\u001b[0m\u001b[0m\n\u001b[0;32m     10\u001b[0m \u001b[0mname1\u001b[0m\u001b[1;33m=\u001b[0m\u001b[0mEmp\u001b[0m\u001b[1;33m(\u001b[0m\u001b[1;33m)\u001b[0m\u001b[1;33m\u001b[0m\u001b[0m\n",
      "\u001b[1;31mNameError\u001b[0m: global name 'getemp' is not defined"
     ]
    }
   ],
   "source": [
    "name=\"name1\"\n",
    "class Emp:\n",
    "    \n",
    "    @staticmethod\n",
    "    def getemp(*args):\n",
    "        print args\n",
    "        return name\n",
    "    def oper2(*args):\n",
    "        print getemp()\n",
    "        \n",
    "name1=Emp()\n",
    "Emp.getemp()\n",
    "name1.oper2()\n"
   ]
  },
  {
   "cell_type": "code",
   "execution_count": 21,
   "metadata": {
    "collapsed": false
   },
   "outputs": [
    {
     "name": "stdout",
     "output_type": "stream",
     "text": [
      "()\n",
      "()\n",
      "name1\n",
      "()\n"
     ]
    },
    {
     "data": {
      "text/plain": [
       "'name1'"
      ]
     },
     "execution_count": 21,
     "metadata": {},
     "output_type": "execute_result"
    }
   ],
   "source": [
    "name=\"name1\"\n",
    "class Emp:\n",
    "    \n",
    "    @staticmethod\n",
    "    def getemp(*args):\n",
    "        print args\n",
    "        return name\n",
    "    def oper2(*args):\n",
    "        print args[0].getemp()\n",
    "        \n",
    "name1=Emp()\n",
    "Emp.getemp()\n",
    "name1.oper2()\n",
    "name1.getemp()\n"
   ]
  },
  {
   "cell_type": "code",
   "execution_count": 22,
   "metadata": {
    "collapsed": false
   },
   "outputs": [
    {
     "name": "stdout",
     "output_type": "stream",
     "text": [
      "Anil\n"
     ]
    }
   ],
   "source": [
    "class Emp:\n",
    "    def getemp(self):\n",
    "        return self.name\n",
    "name1=Emp()\n",
    "name1.name=\"Anil\"\n",
    "print name1.getemp()\n"
   ]
  },
  {
   "cell_type": "code",
   "execution_count": 23,
   "metadata": {
    "collapsed": false
   },
   "outputs": [
    {
     "name": "stdout",
     "output_type": "stream",
     "text": [
      "this is constructor\n"
     ]
    }
   ],
   "source": [
    "class Emp:\n",
    "    def __init__(self):\n",
    "        print \"this is constructor\"\n",
    "        \n",
    "    def getemp(self):\n",
    "        return self.name\n",
    "name1=Emp()\n",
    "\n"
   ]
  },
  {
   "cell_type": "code",
   "execution_count": 24,
   "metadata": {
    "collapsed": false
   },
   "outputs": [
    {
     "name": "stdout",
     "output_type": "stream",
     "text": [
      "this is constructor\n",
      "this is get method\n",
      "('anil', 23, 23457854)\n"
     ]
    }
   ],
   "source": [
    "class Emp:\n",
    "    \n",
    "    def __init__(self,name,age,sal):\n",
    "        self.emp_name = name\n",
    "        self.emp_age = age\n",
    "        self.emp_sal=sal\n",
    "        sal_inc=\"20%\"\n",
    "        print \"this is constructor\"\n",
    "        \n",
    "    def getemp(self):\n",
    "        print \"this is get method\"\n",
    "        return self.emp_name,self.emp_age,self.emp_sal\n",
    "anil=Emp('anil',23,23457854)\n",
    "print anil.getemp()\n"
   ]
  },
  {
   "cell_type": "code",
   "execution_count": 25,
   "metadata": {
    "collapsed": false
   },
   "outputs": [
    {
     "name": "stdout",
     "output_type": "stream",
     "text": [
      "this is constructor\n",
      "this is get method\n"
     ]
    },
    {
     "ename": "NameError",
     "evalue": "global name 'sal_inc' is not defined",
     "output_type": "error",
     "traceback": [
      "\u001b[1;31m---------------------------------------------------------------------------\u001b[0m",
      "\u001b[1;31mNameError\u001b[0m                                 Traceback (most recent call last)",
      "\u001b[1;32m<ipython-input-25-c0f949a3f2c0>\u001b[0m in \u001b[0;36m<module>\u001b[1;34m()\u001b[0m\n\u001b[0;32m     13\u001b[0m         \u001b[1;32mreturn\u001b[0m \u001b[0mself\u001b[0m\u001b[1;33m.\u001b[0m\u001b[0memp_name\u001b[0m\u001b[1;33m,\u001b[0m\u001b[0mself\u001b[0m\u001b[1;33m.\u001b[0m\u001b[0memp_age\u001b[0m\u001b[1;33m,\u001b[0m\u001b[0mself\u001b[0m\u001b[1;33m.\u001b[0m\u001b[0memp_sal\u001b[0m\u001b[1;33m\u001b[0m\u001b[0m\n\u001b[0;32m     14\u001b[0m \u001b[0manil\u001b[0m\u001b[1;33m=\u001b[0m\u001b[0mEmp\u001b[0m\u001b[1;33m(\u001b[0m\u001b[1;34m'anil'\u001b[0m\u001b[1;33m,\u001b[0m\u001b[1;36m23\u001b[0m\u001b[1;33m,\u001b[0m\u001b[1;36m23457854\u001b[0m\u001b[1;33m)\u001b[0m\u001b[1;33m\u001b[0m\u001b[0m\n\u001b[1;32m---> 15\u001b[1;33m \u001b[1;32mprint\u001b[0m \u001b[0manil\u001b[0m\u001b[1;33m.\u001b[0m\u001b[0mgetemp\u001b[0m\u001b[1;33m(\u001b[0m\u001b[1;33m)\u001b[0m\u001b[1;33m\u001b[0m\u001b[0m\n\u001b[0m",
      "\u001b[1;32m<ipython-input-25-c0f949a3f2c0>\u001b[0m in \u001b[0;36mgetemp\u001b[1;34m(self)\u001b[0m\n\u001b[0;32m     10\u001b[0m     \u001b[1;32mdef\u001b[0m \u001b[0mgetemp\u001b[0m\u001b[1;33m(\u001b[0m\u001b[0mself\u001b[0m\u001b[1;33m)\u001b[0m\u001b[1;33m:\u001b[0m\u001b[1;33m\u001b[0m\u001b[0m\n\u001b[0;32m     11\u001b[0m         \u001b[1;32mprint\u001b[0m \u001b[1;34m\"this is get method\"\u001b[0m\u001b[1;33m\u001b[0m\u001b[0m\n\u001b[1;32m---> 12\u001b[1;33m         \u001b[1;32mprint\u001b[0m \u001b[0msal_inc\u001b[0m\u001b[1;33m\u001b[0m\u001b[0m\n\u001b[0m\u001b[0;32m     13\u001b[0m         \u001b[1;32mreturn\u001b[0m \u001b[0mself\u001b[0m\u001b[1;33m.\u001b[0m\u001b[0memp_name\u001b[0m\u001b[1;33m,\u001b[0m\u001b[0mself\u001b[0m\u001b[1;33m.\u001b[0m\u001b[0memp_age\u001b[0m\u001b[1;33m,\u001b[0m\u001b[0mself\u001b[0m\u001b[1;33m.\u001b[0m\u001b[0memp_sal\u001b[0m\u001b[1;33m\u001b[0m\u001b[0m\n\u001b[0;32m     14\u001b[0m \u001b[0manil\u001b[0m\u001b[1;33m=\u001b[0m\u001b[0mEmp\u001b[0m\u001b[1;33m(\u001b[0m\u001b[1;34m'anil'\u001b[0m\u001b[1;33m,\u001b[0m\u001b[1;36m23\u001b[0m\u001b[1;33m,\u001b[0m\u001b[1;36m23457854\u001b[0m\u001b[1;33m)\u001b[0m\u001b[1;33m\u001b[0m\u001b[0m\n",
      "\u001b[1;31mNameError\u001b[0m: global name 'sal_inc' is not defined"
     ]
    }
   ],
   "source": [
    "class Emp:\n",
    "    \n",
    "    def __init__(self,name,age,sal):\n",
    "        self.emp_name = name\n",
    "        self.emp_age = age\n",
    "        self.emp_sal=sal\n",
    "        sal_inc=\"20%\"\n",
    "        print \"this is constructor\"\n",
    "        \n",
    "    def getemp(self):\n",
    "        print \"this is get method\"\n",
    "        print sal_inc\n",
    "        return self.emp_name,self.emp_age,self.emp_sal\n",
    "anil=Emp('anil',23,23457854)\n",
    "print anil.getemp()\n"
   ]
  },
  {
   "cell_type": "code",
   "execution_count": 27,
   "metadata": {
    "collapsed": false
   },
   "outputs": [
    {
     "ename": "AttributeError",
     "evalue": "c3 instance has no attribute 'oper1'",
     "output_type": "error",
     "traceback": [
      "\u001b[1;31m---------------------------------------------------------------------------\u001b[0m",
      "\u001b[1;31mAttributeError\u001b[0m                            Traceback (most recent call last)",
      "\u001b[1;32m<ipython-input-27-99e1b8a7ae83>\u001b[0m in \u001b[0;36m<module>\u001b[1;34m()\u001b[0m\n\u001b[0;32m     10\u001b[0m         \u001b[0mself\u001b[0m\u001b[1;33m.\u001b[0m\u001b[0moper2\u001b[0m\u001b[1;33m(\u001b[0m\u001b[1;33m)\u001b[0m\u001b[1;33m\u001b[0m\u001b[0m\n\u001b[0;32m     11\u001b[0m \u001b[0mo3\u001b[0m\u001b[1;33m=\u001b[0m\u001b[0mc3\u001b[0m\u001b[1;33m(\u001b[0m\u001b[1;33m)\u001b[0m\u001b[1;33m\u001b[0m\u001b[0m\n\u001b[1;32m---> 12\u001b[1;33m \u001b[0mo3\u001b[0m\u001b[1;33m.\u001b[0m\u001b[0moperations\u001b[0m\u001b[1;33m(\u001b[0m\u001b[1;33m)\u001b[0m\u001b[1;33m\u001b[0m\u001b[0m\n\u001b[0m",
      "\u001b[1;32m<ipython-input-27-99e1b8a7ae83>\u001b[0m in \u001b[0;36moperations\u001b[1;34m(self)\u001b[0m\n\u001b[0;32m      7\u001b[0m \u001b[1;32mclass\u001b[0m \u001b[0mc3\u001b[0m\u001b[1;33m:\u001b[0m\u001b[1;33m\u001b[0m\u001b[0m\n\u001b[0;32m      8\u001b[0m     \u001b[1;32mdef\u001b[0m \u001b[0moperations\u001b[0m\u001b[1;33m(\u001b[0m\u001b[0mself\u001b[0m\u001b[1;33m)\u001b[0m\u001b[1;33m:\u001b[0m\u001b[1;33m\u001b[0m\u001b[0m\n\u001b[1;32m----> 9\u001b[1;33m         \u001b[0mself\u001b[0m\u001b[1;33m.\u001b[0m\u001b[0moper1\u001b[0m\u001b[1;33m(\u001b[0m\u001b[1;33m)\u001b[0m\u001b[1;33m\u001b[0m\u001b[0m\n\u001b[0m\u001b[0;32m     10\u001b[0m         \u001b[0mself\u001b[0m\u001b[1;33m.\u001b[0m\u001b[0moper2\u001b[0m\u001b[1;33m(\u001b[0m\u001b[1;33m)\u001b[0m\u001b[1;33m\u001b[0m\u001b[0m\n\u001b[0;32m     11\u001b[0m \u001b[0mo3\u001b[0m\u001b[1;33m=\u001b[0m\u001b[0mc3\u001b[0m\u001b[1;33m(\u001b[0m\u001b[1;33m)\u001b[0m\u001b[1;33m\u001b[0m\u001b[0m\n",
      "\u001b[1;31mAttributeError\u001b[0m: c3 instance has no attribute 'oper1'"
     ]
    }
   ],
   "source": [
    "class c1:\n",
    "    def oper1(self):\n",
    "        print \"oper1 in c1\"\n",
    "class c2:\n",
    "    def oper2(self):\n",
    "        print \"oper2 in c2\"\n",
    "class c3:\n",
    "    def operations(self):\n",
    "        self.oper1()\n",
    "        self.oper2()\n",
    "o3=c3()\n",
    "o3.operations()"
   ]
  },
  {
   "cell_type": "code",
   "execution_count": 28,
   "metadata": {
    "collapsed": false
   },
   "outputs": [
    {
     "name": "stdout",
     "output_type": "stream",
     "text": [
      "oper1 in c3\n"
     ]
    },
    {
     "ename": "AttributeError",
     "evalue": "c3 instance has no attribute 'oper2'",
     "output_type": "error",
     "traceback": [
      "\u001b[1;31m---------------------------------------------------------------------------\u001b[0m",
      "\u001b[1;31mAttributeError\u001b[0m                            Traceback (most recent call last)",
      "\u001b[1;32m<ipython-input-28-97061eac0dc8>\u001b[0m in \u001b[0;36m<module>\u001b[1;34m()\u001b[0m\n\u001b[0;32m     12\u001b[0m         \u001b[1;32mprint\u001b[0m \u001b[1;34m\"oper1 in c3\"\u001b[0m\u001b[1;33m\u001b[0m\u001b[0m\n\u001b[0;32m     13\u001b[0m \u001b[0mo3\u001b[0m\u001b[1;33m=\u001b[0m\u001b[0mc3\u001b[0m\u001b[1;33m(\u001b[0m\u001b[1;33m)\u001b[0m\u001b[1;33m\u001b[0m\u001b[0m\n\u001b[1;32m---> 14\u001b[1;33m \u001b[0mo3\u001b[0m\u001b[1;33m.\u001b[0m\u001b[0moperations\u001b[0m\u001b[1;33m(\u001b[0m\u001b[1;33m)\u001b[0m\u001b[1;33m\u001b[0m\u001b[0m\n\u001b[0m",
      "\u001b[1;32m<ipython-input-28-97061eac0dc8>\u001b[0m in \u001b[0;36moperations\u001b[1;34m(self)\u001b[0m\n\u001b[0;32m      8\u001b[0m     \u001b[1;32mdef\u001b[0m \u001b[0moperations\u001b[0m\u001b[1;33m(\u001b[0m\u001b[0mself\u001b[0m\u001b[1;33m)\u001b[0m\u001b[1;33m:\u001b[0m\u001b[1;33m\u001b[0m\u001b[0m\n\u001b[0;32m      9\u001b[0m         \u001b[0mself\u001b[0m\u001b[1;33m.\u001b[0m\u001b[0moper1\u001b[0m\u001b[1;33m(\u001b[0m\u001b[1;33m)\u001b[0m\u001b[1;33m\u001b[0m\u001b[0m\n\u001b[1;32m---> 10\u001b[1;33m         \u001b[0mself\u001b[0m\u001b[1;33m.\u001b[0m\u001b[0moper2\u001b[0m\u001b[1;33m(\u001b[0m\u001b[1;33m)\u001b[0m\u001b[1;33m\u001b[0m\u001b[0m\n\u001b[0m\u001b[0;32m     11\u001b[0m     \u001b[1;32mdef\u001b[0m \u001b[0moper1\u001b[0m\u001b[1;33m(\u001b[0m\u001b[0mself\u001b[0m\u001b[1;33m)\u001b[0m\u001b[1;33m:\u001b[0m\u001b[1;33m\u001b[0m\u001b[0m\n\u001b[0;32m     12\u001b[0m         \u001b[1;32mprint\u001b[0m \u001b[1;34m\"oper1 in c3\"\u001b[0m\u001b[1;33m\u001b[0m\u001b[0m\n",
      "\u001b[1;31mAttributeError\u001b[0m: c3 instance has no attribute 'oper2'"
     ]
    }
   ],
   "source": [
    "class c1:\n",
    "    def oper1(self):\n",
    "        print \"oper1 in c1\"\n",
    "class c2:\n",
    "    def oper2(self):\n",
    "        print \"oper2 in c2\"\n",
    "class c3:\n",
    "    def operations(self):\n",
    "        self.oper1()\n",
    "        self.oper2()\n",
    "    def oper1(self):\n",
    "        print \"oper1 in c3\"\n",
    "o3=c3()\n",
    "o3.operations()"
   ]
  },
  {
   "cell_type": "code",
   "execution_count": 29,
   "metadata": {
    "collapsed": false
   },
   "outputs": [
    {
     "name": "stdout",
     "output_type": "stream",
     "text": [
      "oper1 in c1\n",
      "oper2 in c2\n"
     ]
    }
   ],
   "source": [
    "class c1:\n",
    "    def oper1(self):\n",
    "        print \"oper1 in c1\"\n",
    "class c2:\n",
    "    def oper2(self):\n",
    "        print \"oper2 in c2\"\n",
    "class c3:\n",
    "    def operations(self):\n",
    "        o1=c1()\n",
    "        o1.oper1()\n",
    "        o2=c2()\n",
    "        o2.oper2()\n",
    "    \n",
    "o3=c3()\n",
    "o3.operations()"
   ]
  },
  {
   "cell_type": "code",
   "execution_count": 31,
   "metadata": {
    "collapsed": false
   },
   "outputs": [
    {
     "name": "stdout",
     "output_type": "stream",
     "text": [
      "60\n"
     ]
    },
    {
     "ename": "TypeError",
     "evalue": "fun() takes exactly 3 arguments (2 given)",
     "output_type": "error",
     "traceback": [
      "\u001b[1;31m---------------------------------------------------------------------------\u001b[0m",
      "\u001b[1;31mTypeError\u001b[0m                                 Traceback (most recent call last)",
      "\u001b[1;32m<ipython-input-31-eb520a8b9226>\u001b[0m in \u001b[0;36m<module>\u001b[1;34m()\u001b[0m\n\u001b[0;32m      2\u001b[0m     \u001b[1;32mreturn\u001b[0m \u001b[0ma\u001b[0m\u001b[1;33m+\u001b[0m\u001b[0mb\u001b[0m\u001b[1;33m+\u001b[0m\u001b[0mc\u001b[0m\u001b[1;33m\u001b[0m\u001b[0m\n\u001b[0;32m      3\u001b[0m \u001b[1;32mprint\u001b[0m \u001b[0mfun\u001b[0m\u001b[1;33m(\u001b[0m\u001b[1;36m10\u001b[0m\u001b[1;33m,\u001b[0m\u001b[1;36m20\u001b[0m\u001b[1;33m,\u001b[0m\u001b[1;36m30\u001b[0m\u001b[1;33m)\u001b[0m\u001b[1;33m\u001b[0m\u001b[0m\n\u001b[1;32m----> 4\u001b[1;33m \u001b[1;32mprint\u001b[0m \u001b[0mfun\u001b[0m\u001b[1;33m(\u001b[0m\u001b[1;36m10\u001b[0m\u001b[1;33m,\u001b[0m\u001b[1;36m20\u001b[0m\u001b[1;33m)\u001b[0m\u001b[1;33m\u001b[0m\u001b[0m\n\u001b[0m\u001b[0;32m      5\u001b[0m \u001b[1;32mprint\u001b[0m \u001b[0mfun\u001b[0m\u001b[1;33m(\u001b[0m\u001b[1;36m10\u001b[0m\u001b[1;33m,\u001b[0m\u001b[1;36m20\u001b[0m\u001b[1;33m,\u001b[0m\u001b[1;36m30\u001b[0m\u001b[1;33m,\u001b[0m\u001b[1;36m40\u001b[0m\u001b[1;33m)\u001b[0m\u001b[1;33m\u001b[0m\u001b[0m\n",
      "\u001b[1;31mTypeError\u001b[0m: fun() takes exactly 3 arguments (2 given)"
     ]
    }
   ],
   "source": [
    "def fun(a,b,c):\n",
    "    return a+b+c\n",
    "print fun(10,20,30)\n",
    "print fun(10,20)\n",
    "print fun(10,20,30,40)"
   ]
  },
  {
   "cell_type": "code",
   "execution_count": 32,
   "metadata": {
    "collapsed": false
   },
   "outputs": [
    {
     "name": "stdout",
     "output_type": "stream",
     "text": [
      "a=10,b=20,c=30,d=0,e=0\n",
      "60\n",
      "a=10,b=20,c=0,d=0,e=0\n",
      "30\n",
      "a=10,b=20,c=30,d=40,e=0\n",
      "100\n"
     ]
    }
   ],
   "source": [
    "#default arguments\n",
    "def fun(a,b,c=0,d=0,e=0):\n",
    "    print \"a={0},b={1},c={2},d={3},e={4}\".format(a,b,c,d,e)\n",
    "    return a+b+c+d+e\n",
    "print fun(10,20,30)\n",
    "print fun(10,20)\n",
    "print fun(10,20,30,40)"
   ]
  },
  {
   "cell_type": "code",
   "execution_count": 33,
   "metadata": {
    "collapsed": false
   },
   "outputs": [
    {
     "name": "stdout",
     "output_type": "stream",
     "text": [
      "a=10,b=20,c=0,d=0,e=30\n",
      "60\n",
      "a=10,b=20,c=0,d=0,e=0\n",
      "30\n",
      "a=10,b=20,c=40,d=30,e=0\n",
      "100\n"
     ]
    }
   ],
   "source": [
    "#keyword arguments\n",
    "def fun(a,b,c=0,d=0,e=0):\n",
    "    print \"a={0},b={1},c={2},d={3},e={4}\".format(a,b,c,d,e)\n",
    "    return a+b+c+d+e\n",
    "print fun(10,20,e=30)\n",
    "print fun(10,20)\n",
    "print fun(10,20,d=30,c=40)"
   ]
  },
  {
   "cell_type": "code",
   "execution_count": 35,
   "metadata": {
    "collapsed": false
   },
   "outputs": [
    {
     "ename": "TypeError",
     "evalue": "fun() got an unexpected keyword argument 'f'",
     "output_type": "error",
     "traceback": [
      "\u001b[1;31m---------------------------------------------------------------------------\u001b[0m",
      "\u001b[1;31mTypeError\u001b[0m                                 Traceback (most recent call last)",
      "\u001b[1;32m<ipython-input-35-b3f7fea96941>\u001b[0m in \u001b[0;36m<module>\u001b[1;34m()\u001b[0m\n\u001b[0;32m      3\u001b[0m     \u001b[1;32mprint\u001b[0m \u001b[1;34m\"a={0},b={1},c={2},d={3},e={4}\"\u001b[0m\u001b[1;33m.\u001b[0m\u001b[0mformat\u001b[0m\u001b[1;33m(\u001b[0m\u001b[0ma\u001b[0m\u001b[1;33m,\u001b[0m\u001b[0mb\u001b[0m\u001b[1;33m,\u001b[0m\u001b[0mc\u001b[0m\u001b[1;33m,\u001b[0m\u001b[0md\u001b[0m\u001b[1;33m,\u001b[0m\u001b[0me\u001b[0m\u001b[1;33m)\u001b[0m\u001b[1;33m\u001b[0m\u001b[0m\n\u001b[0;32m      4\u001b[0m     \u001b[1;32mreturn\u001b[0m \u001b[0ma\u001b[0m\u001b[1;33m+\u001b[0m\u001b[0mb\u001b[0m\u001b[1;33m+\u001b[0m\u001b[0mc\u001b[0m\u001b[1;33m+\u001b[0m\u001b[0md\u001b[0m\u001b[1;33m+\u001b[0m\u001b[0me\u001b[0m\u001b[1;33m\u001b[0m\u001b[0m\n\u001b[1;32m----> 5\u001b[1;33m \u001b[1;32mprint\u001b[0m \u001b[0mfun\u001b[0m\u001b[1;33m(\u001b[0m\u001b[1;36m10\u001b[0m\u001b[1;33m,\u001b[0m\u001b[1;36m20\u001b[0m\u001b[1;33m,\u001b[0m\u001b[0me\u001b[0m\u001b[1;33m=\u001b[0m\u001b[1;36m30\u001b[0m\u001b[1;33m,\u001b[0m\u001b[0mf\u001b[0m\u001b[1;33m=\u001b[0m\u001b[1;36m40\u001b[0m\u001b[1;33m,\u001b[0m\u001b[0mg\u001b[0m\u001b[1;33m=\u001b[0m\u001b[1;36m500\u001b[0m\u001b[1;33m)\u001b[0m\u001b[1;33m\u001b[0m\u001b[0m\n\u001b[0m\u001b[0;32m      6\u001b[0m \u001b[1;32mprint\u001b[0m \u001b[0mfun\u001b[0m\u001b[1;33m(\u001b[0m\u001b[1;36m10\u001b[0m\u001b[1;33m,\u001b[0m\u001b[1;36m20\u001b[0m\u001b[1;33m)\u001b[0m\u001b[1;33m\u001b[0m\u001b[0m\n\u001b[0;32m      7\u001b[0m \u001b[1;32mprint\u001b[0m \u001b[0mfun\u001b[0m\u001b[1;33m(\u001b[0m\u001b[1;36m10\u001b[0m\u001b[1;33m,\u001b[0m\u001b[1;36m20\u001b[0m\u001b[1;33m,\u001b[0m\u001b[0md\u001b[0m\u001b[1;33m=\u001b[0m\u001b[1;36m30\u001b[0m\u001b[1;33m,\u001b[0m\u001b[0mc\u001b[0m\u001b[1;33m=\u001b[0m\u001b[1;36m40\u001b[0m\u001b[1;33m,\u001b[0m\u001b[0mh\u001b[0m\u001b[1;33m=\u001b[0m\u001b[1;36m400\u001b[0m\u001b[1;33m,\u001b[0m\u001b[0mt\u001b[0m\u001b[1;33m=\u001b[0m\u001b[1;36m500\u001b[0m\u001b[1;33m)\u001b[0m\u001b[1;33m\u001b[0m\u001b[0m\n",
      "\u001b[1;31mTypeError\u001b[0m: fun() got an unexpected keyword argument 'f'"
     ]
    }
   ],
   "source": [
    "#keyword arguments\n",
    "def fun(a,b,c=0,d=0,e=0):\n",
    "    print \"a={0},b={1},c={2},d={3},e={4}\".format(a,b,c,d,e)\n",
    "    return a+b+c+d+e\n",
    "print fun(10,20,e=30,f=40,g=500)\n",
    "print fun(10,20)\n",
    "print fun(10,20,d=30,c=40,h=400,t=500)"
   ]
  },
  {
   "cell_type": "code",
   "execution_count": 36,
   "metadata": {
    "collapsed": false
   },
   "outputs": [
    {
     "name": "stdout",
     "output_type": "stream",
     "text": [
      "a=10,b=20,c=0,d=0,e=30\n",
      "{'g': 500, 'f': 40}\n",
      "60\n",
      "a=10,b=20,c=0,d=0,e=0\n",
      "{}\n",
      "30\n",
      "a=10,b=20,c=40,d=30,e=0\n",
      "{'h': 400, 't': 500}\n",
      "100\n"
     ]
    }
   ],
   "source": [
    "#keyword arguments\n",
    "def fun(a,b,c=0,d=0,e=0,**kwargs):\n",
    "    print \"a={0},b={1},c={2},d={3},e={4}\".format(a,b,c,d,e)\n",
    "    print kwargs\n",
    "    return a+b+c+d+e\n",
    "print fun(10,20,e=30,f=40,g=500)\n",
    "print fun(10,20)\n",
    "print fun(10,20,d=30,c=40,h=400,t=500)"
   ]
  },
  {
   "cell_type": "code",
   "execution_count": 37,
   "metadata": {
    "collapsed": false
   },
   "outputs": [
    {
     "name": "stdout",
     "output_type": "stream",
     "text": [
      "a=10, b=20\n",
      "args= ()\n",
      "a=10, b=20\n",
      "args= (30, 40, 50, 60)\n"
     ]
    }
   ],
   "source": [
    "def fun(a,b,*args):\n",
    "    print \"a={0}, b={1}\".format(a,b)\n",
    "    print \"args=\",args\n",
    "fun(10,20)\n",
    "fun(10,20,30,40,50,60)"
   ]
  },
  {
   "cell_type": "code",
   "execution_count": 39,
   "metadata": {
    "collapsed": false
   },
   "outputs": [
    {
     "name": "stdout",
     "output_type": "stream",
     "text": [
      "initialize the table\n",
      "inserts data\n",
      "initialize the table\n",
      "updates the table data\n"
     ]
    }
   ],
   "source": [
    "class Model:\n",
    "    def __init__(self,**kwargs):\n",
    "        print \"initialize the table\"\n",
    "        self.data=kwargs\n",
    "    def create_table(self):\n",
    "        print \"creates the table\"\n",
    "    def insert_data(self):\n",
    "        print \"inserts data\"\n",
    "    def update_data(self):\n",
    "        print \"updates the table data\"\n",
    "    def delete_data(self):\n",
    "        print \"deletes the table data\"\n",
    "class table1:\n",
    "    def __init__(self,name,age,sal):\n",
    "        self.name=name\n",
    "        self.age=age\n",
    "        self.sal=sal\n",
    "    def insert_data(self):\n",
    "        m=Model(name=self.name,age=self.age,sal=self.sal)\n",
    "        m.insert_data()\n",
    "    def update_data(self):\n",
    "        m=Model(name=self.name,age=self.age,sal=self.sal)\n",
    "        m.update_data()\n",
    "    \n",
    "        \n",
    "t1=table1('name1',23,2346667)\n",
    "t1.insert_data()\n",
    "t1.update_data()\n",
    "        \n",
    "\n",
    "\n",
    "    "
   ]
  },
  {
   "cell_type": "code",
   "execution_count": 40,
   "metadata": {
    "collapsed": false
   },
   "outputs": [
    {
     "name": "stdout",
     "output_type": "stream",
     "text": [
      "oper1\n",
      "oper2\n",
      "oper1\n"
     ]
    }
   ],
   "source": [
    "class c1:\n",
    "    def oper1(self):\n",
    "        print \"oper1\"\n",
    "class c2:\n",
    "    def oper2(self):\n",
    "        print \"oper2\"\n",
    "class c3(c1,c2):\n",
    "    def operations(self):\n",
    "        self.oper1()\n",
    "        self.oper2()\n",
    "o3=c3()\n",
    "o3.operations()\n",
    "o3.oper1()\n",
    "\n",
    "        "
   ]
  },
  {
   "cell_type": "code",
   "execution_count": 41,
   "metadata": {
    "collapsed": false
   },
   "outputs": [
    {
     "name": "stdout",
     "output_type": "stream",
     "text": [
      "oper1\n",
      "oper2\n"
     ]
    },
    {
     "ename": "AttributeError",
     "evalue": "c3 instance has no attribute 'oper3'",
     "output_type": "error",
     "traceback": [
      "\u001b[1;31m---------------------------------------------------------------------------\u001b[0m",
      "\u001b[1;31mAttributeError\u001b[0m                            Traceback (most recent call last)",
      "\u001b[1;32m<ipython-input-41-b23c409cd95a>\u001b[0m in \u001b[0;36m<module>\u001b[1;34m()\u001b[0m\n\u001b[0;32m     11\u001b[0m         \u001b[0mself\u001b[0m\u001b[1;33m.\u001b[0m\u001b[0moper3\u001b[0m\u001b[1;33m(\u001b[0m\u001b[1;33m)\u001b[0m\u001b[1;33m\u001b[0m\u001b[0m\n\u001b[0;32m     12\u001b[0m \u001b[0mo3\u001b[0m\u001b[1;33m=\u001b[0m\u001b[0mc3\u001b[0m\u001b[1;33m(\u001b[0m\u001b[1;33m)\u001b[0m\u001b[1;33m\u001b[0m\u001b[0m\n\u001b[1;32m---> 13\u001b[1;33m \u001b[0mo3\u001b[0m\u001b[1;33m.\u001b[0m\u001b[0moperations\u001b[0m\u001b[1;33m(\u001b[0m\u001b[1;33m)\u001b[0m\u001b[1;33m\u001b[0m\u001b[0m\n\u001b[0m\u001b[0;32m     14\u001b[0m \u001b[0mo3\u001b[0m\u001b[1;33m.\u001b[0m\u001b[0moper1\u001b[0m\u001b[1;33m(\u001b[0m\u001b[1;33m)\u001b[0m\u001b[1;33m\u001b[0m\u001b[0m\n\u001b[0;32m     15\u001b[0m \u001b[1;33m\u001b[0m\u001b[0m\n",
      "\u001b[1;32m<ipython-input-41-b23c409cd95a>\u001b[0m in \u001b[0;36moperations\u001b[1;34m(self)\u001b[0m\n\u001b[0;32m      9\u001b[0m         \u001b[0mself\u001b[0m\u001b[1;33m.\u001b[0m\u001b[0moper1\u001b[0m\u001b[1;33m(\u001b[0m\u001b[1;33m)\u001b[0m\u001b[1;33m\u001b[0m\u001b[0m\n\u001b[0;32m     10\u001b[0m         \u001b[0mself\u001b[0m\u001b[1;33m.\u001b[0m\u001b[0moper2\u001b[0m\u001b[1;33m(\u001b[0m\u001b[1;33m)\u001b[0m\u001b[1;33m\u001b[0m\u001b[0m\n\u001b[1;32m---> 11\u001b[1;33m         \u001b[0mself\u001b[0m\u001b[1;33m.\u001b[0m\u001b[0moper3\u001b[0m\u001b[1;33m(\u001b[0m\u001b[1;33m)\u001b[0m\u001b[1;33m\u001b[0m\u001b[0m\n\u001b[0m\u001b[0;32m     12\u001b[0m \u001b[0mo3\u001b[0m\u001b[1;33m=\u001b[0m\u001b[0mc3\u001b[0m\u001b[1;33m(\u001b[0m\u001b[1;33m)\u001b[0m\u001b[1;33m\u001b[0m\u001b[0m\n\u001b[0;32m     13\u001b[0m \u001b[0mo3\u001b[0m\u001b[1;33m.\u001b[0m\u001b[0moperations\u001b[0m\u001b[1;33m(\u001b[0m\u001b[1;33m)\u001b[0m\u001b[1;33m\u001b[0m\u001b[0m\n",
      "\u001b[1;31mAttributeError\u001b[0m: c3 instance has no attribute 'oper3'"
     ]
    }
   ],
   "source": [
    "class c1:\n",
    "    def oper1(self):\n",
    "        print \"oper1\"\n",
    "class c2:\n",
    "    def oper2(self):\n",
    "        print \"oper2\"\n",
    "class c3(c1,c2):\n",
    "    def operations(self):\n",
    "        self.oper1()\n",
    "        self.oper2()\n",
    "        self.oper3()\n",
    "o3=c3()\n",
    "o3.operations()\n",
    "o3.oper1()\n",
    "\n",
    "        "
   ]
  },
  {
   "cell_type": "code",
   "execution_count": 42,
   "metadata": {
    "collapsed": false
   },
   "outputs": [
    {
     "name": "stdout",
     "output_type": "stream",
     "text": [
      "oper1 in c1\n",
      "oper2 in c3\n",
      "oper1 in c1\n"
     ]
    }
   ],
   "source": [
    "class c1:\n",
    "    def oper1(self):\n",
    "        print \"oper1 in c1\"\n",
    "class c2:\n",
    "    def oper2(self):\n",
    "        print \"oper2 in c2\"\n",
    "class c3(c1,c2):\n",
    "    def operations(self):\n",
    "        self.oper1()\n",
    "        self.oper2()\n",
    "    def oper2(self):\n",
    "        print \"oper2 in c3\"\n",
    "o3=c3()\n",
    "o3.operations()\n",
    "o3.oper1()\n",
    "\n",
    "        "
   ]
  },
  {
   "cell_type": "code",
   "execution_count": 43,
   "metadata": {
    "collapsed": false
   },
   "outputs": [
    {
     "name": "stdout",
     "output_type": "stream",
     "text": [
      "c2 constructor\n"
     ]
    }
   ],
   "source": [
    "class c1:\n",
    "    def __init__(self):\n",
    "        print \"c1 constructor\"\n",
    "        \n",
    "    def oper1(self):\n",
    "        print \"oper1 in c1\"\n",
    "        \n",
    "class c2(c1):\n",
    "    def __init__(self):\n",
    "        print \"c2 constructor\"\n",
    "        \n",
    "    def oper2(self):\n",
    "        print \"oper2 in c2\"\n",
    "o2=c2()      "
   ]
  },
  {
   "cell_type": "code",
   "execution_count": 44,
   "metadata": {
    "collapsed": false
   },
   "outputs": [
    {
     "name": "stdout",
     "output_type": "stream",
     "text": [
      "c1 constructor\n"
     ]
    }
   ],
   "source": [
    "class c1:\n",
    "    def __init__(self):\n",
    "        print \"c1 constructor\"\n",
    "        \n",
    "    def oper1(self):\n",
    "        print \"oper1 in c1\"\n",
    "        \n",
    "class c2(c1):\n",
    "        \n",
    "    def oper2(self):\n",
    "        print \"oper2 in c2\"\n",
    "o2=c2()      "
   ]
  },
  {
   "cell_type": "code",
   "execution_count": 46,
   "metadata": {
    "collapsed": false
   },
   "outputs": [
    {
     "ename": "TypeError",
     "evalue": "__init__() takes exactly 3 arguments (1 given)",
     "output_type": "error",
     "traceback": [
      "\u001b[1;31m---------------------------------------------------------------------------\u001b[0m",
      "\u001b[1;31mTypeError\u001b[0m                                 Traceback (most recent call last)",
      "\u001b[1;32m<ipython-input-46-66edc5bf04b4>\u001b[0m in \u001b[0;36m<module>\u001b[1;34m()\u001b[0m\n\u001b[0;32m     13\u001b[0m         \u001b[1;32mprint\u001b[0m \u001b[1;34m\"b=\"\u001b[0m\u001b[1;33m,\u001b[0m\u001b[0mself\u001b[0m\u001b[1;33m.\u001b[0m\u001b[0mb\u001b[0m\u001b[1;33m\u001b[0m\u001b[0m\n\u001b[0;32m     14\u001b[0m         \u001b[1;32mprint\u001b[0m \u001b[1;34m\"oper2 in c2\"\u001b[0m\u001b[1;33m\u001b[0m\u001b[0m\n\u001b[1;32m---> 15\u001b[1;33m \u001b[0mo2\u001b[0m\u001b[1;33m=\u001b[0m\u001b[0mc2\u001b[0m\u001b[1;33m(\u001b[0m\u001b[1;33m)\u001b[0m\u001b[1;33m\u001b[0m\u001b[0m\n\u001b[0m\u001b[0;32m     16\u001b[0m \u001b[0mo2\u001b[0m\u001b[1;33m.\u001b[0m\u001b[0moper1\u001b[0m\u001b[1;33m(\u001b[0m\u001b[1;33m)\u001b[0m\u001b[1;33m\u001b[0m\u001b[0m\n\u001b[0;32m     17\u001b[0m \u001b[0mo2\u001b[0m\u001b[1;33m.\u001b[0m\u001b[0moper2\u001b[0m\u001b[1;33m(\u001b[0m\u001b[1;33m)\u001b[0m\u001b[1;33m\u001b[0m\u001b[0m\n",
      "\u001b[1;31mTypeError\u001b[0m: __init__() takes exactly 3 arguments (1 given)"
     ]
    }
   ],
   "source": [
    "class c1:\n",
    "    def __init__(self,a,b):\n",
    "        self.a=a\n",
    "        self.b=b\n",
    "        print \"c1 constructor\"\n",
    "        \n",
    "    def oper1(self):\n",
    "        print \"a=\",self.a\n",
    "        print \"oper1 in c1\"\n",
    "        \n",
    "class c2(c1):\n",
    "    def oper2(self):\n",
    "        print \"b=\",self.b\n",
    "        print \"oper2 in c2\"\n",
    "o2=c2() \n",
    "o2.oper1()\n",
    "o2.oper2()"
   ]
  },
  {
   "cell_type": "code",
   "execution_count": 47,
   "metadata": {
    "collapsed": false
   },
   "outputs": [
    {
     "name": "stdout",
     "output_type": "stream",
     "text": [
      "c1 constructor\n",
      "a= 10\n",
      "oper1 in c1\n",
      "b= 20\n",
      "oper2 in c2\n"
     ]
    }
   ],
   "source": [
    "class c1:\n",
    "    def __init__(self,a,b):\n",
    "        self.a=a\n",
    "        self.b=b\n",
    "        print \"c1 constructor\"\n",
    "        \n",
    "    def oper1(self):\n",
    "        print \"a=\",self.a\n",
    "        print \"oper1 in c1\"\n",
    "        \n",
    "class c2(c1):\n",
    "    def oper2(self):\n",
    "        print \"b=\",self.b\n",
    "        print \"oper2 in c2\"\n",
    "o2=c2(10,20) \n",
    "o2.oper1()\n",
    "o2.oper2()"
   ]
  },
  {
   "cell_type": "code",
   "execution_count": 52,
   "metadata": {
    "collapsed": false
   },
   "outputs": [
    {
     "name": "stdout",
     "output_type": "stream",
     "text": [
      "a= 10\n",
      "oper1 in c1\n",
      "b= 20\n",
      "oper2 in c2\n"
     ]
    }
   ],
   "source": [
    "class c1:\n",
    "    def __init__(self,a,b):\n",
    "        self.e1=a\n",
    "        self.e2=b\n",
    "        print \"c1 constructor\"\n",
    "        \n",
    "    def oper1(self):\n",
    "        print \"a=\",self.e1\n",
    "        print \"oper1 in c1\"\n",
    "        \n",
    "class c2(c1):\n",
    "    def __init__(self,a,b):\n",
    "        self.e1=a\n",
    "        self.e2=b\n",
    "    def oper2(self):\n",
    "        print \"b=\",self.e2\n",
    "        print \"oper2 in c2\"\n",
    "o2=c2(10,20) \n",
    "o2.oper1()\n",
    "o2.oper2()"
   ]
  },
  {
   "cell_type": "code",
   "execution_count": 53,
   "metadata": {
    "collapsed": false
   },
   "outputs": [
    {
     "name": "stdout",
     "output_type": "stream",
     "text": [
      "a="
     ]
    },
    {
     "ename": "AttributeError",
     "evalue": "c2 instance has no attribute 'a'",
     "output_type": "error",
     "traceback": [
      "\u001b[1;31m---------------------------------------------------------------------------\u001b[0m",
      "\u001b[1;31mAttributeError\u001b[0m                            Traceback (most recent call last)",
      "\u001b[1;32m<ipython-input-53-ee48a0784ec7>\u001b[0m in \u001b[0;36m<module>\u001b[1;34m()\u001b[0m\n\u001b[0;32m     18\u001b[0m         \u001b[1;32mprint\u001b[0m \u001b[1;34m\"b=\"\u001b[0m\u001b[1;33m,\u001b[0m\u001b[0mself\u001b[0m\u001b[1;33m.\u001b[0m\u001b[0mb\u001b[0m\u001b[1;33m\u001b[0m\u001b[0m\n\u001b[0;32m     19\u001b[0m \u001b[0mo2\u001b[0m\u001b[1;33m=\u001b[0m\u001b[0mc2\u001b[0m\u001b[1;33m(\u001b[0m\u001b[1;36m10\u001b[0m\u001b[1;33m,\u001b[0m\u001b[1;36m20\u001b[0m\u001b[1;33m)\u001b[0m\u001b[1;33m\u001b[0m\u001b[0m\n\u001b[1;32m---> 20\u001b[1;33m \u001b[0mo2\u001b[0m\u001b[1;33m.\u001b[0m\u001b[0moper1\u001b[0m\u001b[1;33m(\u001b[0m\u001b[1;33m)\u001b[0m\u001b[1;33m\u001b[0m\u001b[0m\n\u001b[0m\u001b[0;32m     21\u001b[0m \u001b[0mo2\u001b[0m\u001b[1;33m.\u001b[0m\u001b[0moper2\u001b[0m\u001b[1;33m(\u001b[0m\u001b[1;33m)\u001b[0m\u001b[1;33m\u001b[0m\u001b[0m\n",
      "\u001b[1;32m<ipython-input-53-ee48a0784ec7>\u001b[0m in \u001b[0;36moper1\u001b[1;34m(self)\u001b[0m\n\u001b[0;32m      4\u001b[0m \u001b[1;33m\u001b[0m\u001b[0m\n\u001b[0;32m      5\u001b[0m     \u001b[1;32mdef\u001b[0m \u001b[0moper1\u001b[0m\u001b[1;33m(\u001b[0m\u001b[0mself\u001b[0m\u001b[1;33m)\u001b[0m\u001b[1;33m:\u001b[0m\u001b[1;33m\u001b[0m\u001b[0m\n\u001b[1;32m----> 6\u001b[1;33m         \u001b[1;32mprint\u001b[0m \u001b[1;34m\"a=\"\u001b[0m\u001b[1;33m,\u001b[0m\u001b[0mself\u001b[0m\u001b[1;33m.\u001b[0m\u001b[0ma\u001b[0m\u001b[1;33m\u001b[0m\u001b[0m\n\u001b[0m\u001b[0;32m      7\u001b[0m         \u001b[1;32mprint\u001b[0m \u001b[1;34m\"oper1 in c1\"\u001b[0m\u001b[1;33m\u001b[0m\u001b[0m\n\u001b[0;32m      8\u001b[0m \u001b[1;33m\u001b[0m\u001b[0m\n",
      "\u001b[1;31mAttributeError\u001b[0m: c2 instance has no attribute 'a'"
     ]
    }
   ],
   "source": [
    "class c1:\n",
    "    def __init__(self,a):\n",
    "        self.a=a\n",
    "        \n",
    "    def oper1(self):\n",
    "        print \"a=\",self.a\n",
    "        print \"oper1 in c1\"\n",
    "        \n",
    "class c2(c1):\n",
    "    def __init__(self,a,b):\n",
    "        self.b=b\n",
    "       \n",
    "    def oper2(self):\n",
    "        print \"b=\",self.b\n",
    "        print \"oper2 in c2\"\n",
    "    def oper3(self):\n",
    "        print \"a=\",self.a\n",
    "        print \"b=\",self.b\n",
    "o2=c2(10,20) \n",
    "o2.oper1()\n",
    "o2.oper2()\n"
   ]
  },
  {
   "cell_type": "code",
   "execution_count": null,
   "metadata": {
    "collapsed": true
   },
   "outputs": [],
   "source": [
    "class c1:\n",
    "    def __init__(self,a):\n",
    "        self.a=a\n",
    "        \n",
    "    def oper1(self):\n",
    "        print \"a=\",self.a\n",
    "        print \"oper1 in c1\"\n",
    "        \n",
    "class c2(c1):\n",
    "    def __init__(self,a,b):\n",
    "        self.b=b\n",
    "        self.__init__(a)\n",
    "       \n",
    "    def oper2(self):\n",
    "        print \"b=\",self.b\n",
    "        print \"oper2 in c2\"\n",
    "    def oper3(self):\n",
    "        print \"a=\",self.a\n",
    "        print \"b=\",self.b\n",
    "o2=c2(10,20) \n",
    "o2.oper1()\n",
    "o2.oper2()\n"
   ]
  },
  {
   "cell_type": "code",
   "execution_count": 54,
   "metadata": {
    "collapsed": false
   },
   "outputs": [
    {
     "name": "stdout",
     "output_type": "stream",
     "text": [
      " a= 10\n",
      "oper1 in c1\n",
      "b= 20\n",
      "oper2 in c2\n"
     ]
    }
   ],
   "source": [
    "class c1:\n",
    "    def __init__(self,a):\n",
    "        self.a=a\n",
    "        \n",
    "    def oper1(self):\n",
    "        print \"a=\",self.a\n",
    "        print \"oper1 in c1\"\n",
    "        \n",
    "class c2(c1):\n",
    "    def __init__(self,a,b):\n",
    "        self.b=b\n",
    "        c1.__init__(self,a)\n",
    "       \n",
    "    def oper2(self):\n",
    "        print \"b=\",self.b\n",
    "        print \"oper2 in c2\"\n",
    "    def oper3(self):\n",
    "        print \"a=\",self.a\n",
    "        print \"b=\",self.b\n",
    "o2=c2(10,20) \n",
    "o2.oper1()\n",
    "o2.oper2()\n"
   ]
  },
  {
   "cell_type": "code",
   "execution_count": 55,
   "metadata": {
    "collapsed": false
   },
   "outputs": [
    {
     "name": "stdout",
     "output_type": "stream",
     "text": [
      "oper1\n",
      "None\n"
     ]
    }
   ],
   "source": [
    "class c1:\n",
    "    def oper1(self):\n",
    "        print \"oper1\"\n",
    "class c2(c1):\n",
    "    def oper2(self):\n",
    "        print \"oper2\"\n",
    "class c3(c2):\n",
    "    def oper3(self):\n",
    "        print \"oper3\"\n",
    "o3=c3()\n",
    "print o3.oper1()\n",
    "    "
   ]
  },
  {
   "cell_type": "code",
   "execution_count": 56,
   "metadata": {
    "collapsed": false
   },
   "outputs": [
    {
     "name": "stdout",
     "output_type": "stream",
     "text": [
      "oper1\n",
      "somethong\n"
     ]
    }
   ],
   "source": [
    "class c1:\n",
    "    def oper1(self):\n",
    "        print \"oper1\"\n",
    "        return \"somethong\"\n",
    "class c2(c1):\n",
    "    def oper2(self):\n",
    "        print \"oper2\"\n",
    "class c3(c2):\n",
    "    def oper3(self):\n",
    "        print \"oper3\"\n",
    "o3=c3()\n",
    "print o3.oper1()\n",
    "    "
   ]
  },
  {
   "cell_type": "code",
   "execution_count": 57,
   "metadata": {
    "collapsed": false
   },
   "outputs": [
    {
     "name": "stdout",
     "output_type": "stream",
     "text": [
      "oper1\n",
      "somethong\n"
     ]
    }
   ],
   "source": [
    "class c1:\n",
    "    def oper1(self):\n",
    "        print \"oper1\"\n",
    "        return \"somethong\"\n",
    "class c2:\n",
    "    def oper2(self):\n",
    "        print \"oper2\"\n",
    "class c3(c2,c1):\n",
    "    def oper3(self):\n",
    "        print \"oper3\"\n",
    "o3=c3()\n",
    "print o3.oper1()\n",
    "    "
   ]
  },
  {
   "cell_type": "code",
   "execution_count": 58,
   "metadata": {
    "collapsed": false
   },
   "outputs": [
    {
     "name": "stdout",
     "output_type": "stream",
     "text": [
      "20\n"
     ]
    }
   ],
   "source": [
    "class c1:\n",
    "    def __init__(self,a):\n",
    "        self.a=a\n",
    "    def get(self):\n",
    "        return self.a+10\n",
    "o1=c1(10)\n",
    "print o1.get()"
   ]
  },
  {
   "cell_type": "code",
   "execution_count": 60,
   "metadata": {
    "collapsed": false
   },
   "outputs": [
    {
     "ename": "NameError",
     "evalue": "name 'c5' is not defined",
     "output_type": "error",
     "traceback": [
      "\u001b[1;31m---------------------------------------------------------------------------\u001b[0m",
      "\u001b[1;31mNameError\u001b[0m                                 Traceback (most recent call last)",
      "\u001b[1;32m<ipython-input-60-07c0570acbef>\u001b[0m in \u001b[0;36m<module>\u001b[1;34m()\u001b[0m\n\u001b[1;32m----> 1\u001b[1;33m \u001b[0mc5\u001b[0m\u001b[1;33m=\u001b[0m\u001b[0mc5\u001b[0m\u001b[1;33m+\u001b[0m\u001b[1;36m10\u001b[0m\u001b[1;33m\u001b[0m\u001b[0m\n\u001b[0m",
      "\u001b[1;31mNameError\u001b[0m: name 'c5' is not defined"
     ]
    }
   ],
   "source": [
    "c5=c5+10"
   ]
  },
  {
   "cell_type": "code",
   "execution_count": 63,
   "metadata": {
    "collapsed": false
   },
   "outputs": [
    {
     "name": "stdout",
     "output_type": "stream",
     "text": [
      "constructor\n",
      "20\n"
     ]
    }
   ],
   "source": [
    "class c1:\n",
    "    def __new__(cls):\n",
    "        print \"new ,ethod\"\n",
    "    def __init__(self,a):\n",
    "        print \"constructor\"\n",
    "        self.a=a\n",
    "    def get(self):\n",
    "        return self.a+10\n",
    "o1=c1(10)\n",
    "print o1.get()"
   ]
  },
  {
   "cell_type": "code",
   "execution_count": 66,
   "metadata": {
    "collapsed": false
   },
   "outputs": [
    {
     "ename": "TypeError",
     "evalue": "__new__() takes exactly 1 argument (2 given)",
     "output_type": "error",
     "traceback": [
      "\u001b[1;31m---------------------------------------------------------------------------\u001b[0m",
      "\u001b[1;31mTypeError\u001b[0m                                 Traceback (most recent call last)",
      "\u001b[1;32m<ipython-input-66-66b9d295512e>\u001b[0m in \u001b[0;36m<module>\u001b[1;34m()\u001b[0m\n\u001b[0;32m      7\u001b[0m     \u001b[1;32mdef\u001b[0m \u001b[0mget\u001b[0m\u001b[1;33m(\u001b[0m\u001b[0mself\u001b[0m\u001b[1;33m)\u001b[0m\u001b[1;33m:\u001b[0m\u001b[1;33m\u001b[0m\u001b[0m\n\u001b[0;32m      8\u001b[0m         \u001b[1;32mreturn\u001b[0m \u001b[0mself\u001b[0m\u001b[1;33m.\u001b[0m\u001b[0ma\u001b[0m\u001b[1;33m+\u001b[0m\u001b[1;36m10\u001b[0m\u001b[1;33m\u001b[0m\u001b[0m\n\u001b[1;32m----> 9\u001b[1;33m \u001b[0mo5\u001b[0m\u001b[1;33m=\u001b[0m\u001b[0mc5\u001b[0m\u001b[1;33m(\u001b[0m\u001b[1;36m10\u001b[0m\u001b[1;33m)\u001b[0m\u001b[1;33m\u001b[0m\u001b[0m\n\u001b[0m\u001b[0;32m     10\u001b[0m \u001b[1;32mprint\u001b[0m \u001b[0mo5\u001b[0m\u001b[1;33m.\u001b[0m\u001b[0mget\u001b[0m\u001b[1;33m(\u001b[0m\u001b[1;33m)\u001b[0m\u001b[1;33m\u001b[0m\u001b[0m\n",
      "\u001b[1;31mTypeError\u001b[0m: __new__() takes exactly 1 argument (2 given)"
     ]
    }
   ],
   "source": [
    "class c5(object):\n",
    "    def __new__(cls):\n",
    "        print \"new ,ethod\"\n",
    "    def __init__(self,a):\n",
    "        print \"constructor\"\n",
    "        self.a=a\n",
    "    def get(self):\n",
    "        return self.a+10\n",
    "o5=c5(10)\n",
    "print o5.get()"
   ]
  },
  {
   "cell_type": "code",
   "execution_count": 67,
   "metadata": {
    "collapsed": false
   },
   "outputs": [
    {
     "ename": "TypeError",
     "evalue": "__new__() takes exactly 1 argument (3 given)",
     "output_type": "error",
     "traceback": [
      "\u001b[1;31m---------------------------------------------------------------------------\u001b[0m",
      "\u001b[1;31mTypeError\u001b[0m                                 Traceback (most recent call last)",
      "\u001b[1;32m<ipython-input-67-27d72176d1f0>\u001b[0m in \u001b[0;36m<module>\u001b[1;34m()\u001b[0m\n\u001b[0;32m      7\u001b[0m     \u001b[1;32mdef\u001b[0m \u001b[0mget\u001b[0m\u001b[1;33m(\u001b[0m\u001b[0mself\u001b[0m\u001b[1;33m)\u001b[0m\u001b[1;33m:\u001b[0m\u001b[1;33m\u001b[0m\u001b[0m\n\u001b[0;32m      8\u001b[0m         \u001b[1;32mreturn\u001b[0m \u001b[0mself\u001b[0m\u001b[1;33m.\u001b[0m\u001b[0ma\u001b[0m\u001b[1;33m+\u001b[0m\u001b[1;36m10\u001b[0m\u001b[1;33m\u001b[0m\u001b[0m\n\u001b[1;32m----> 9\u001b[1;33m \u001b[0mo5\u001b[0m\u001b[1;33m=\u001b[0m\u001b[0mc5\u001b[0m\u001b[1;33m(\u001b[0m\u001b[1;36m10\u001b[0m\u001b[1;33m,\u001b[0m\u001b[1;36m20\u001b[0m\u001b[1;33m)\u001b[0m\u001b[1;33m\u001b[0m\u001b[0m\n\u001b[0m\u001b[0;32m     10\u001b[0m \u001b[1;32mprint\u001b[0m \u001b[0mo5\u001b[0m\u001b[1;33m.\u001b[0m\u001b[0mget\u001b[0m\u001b[1;33m(\u001b[0m\u001b[1;33m)\u001b[0m\u001b[1;33m\u001b[0m\u001b[0m\n",
      "\u001b[1;31mTypeError\u001b[0m: __new__() takes exactly 1 argument (3 given)"
     ]
    }
   ],
   "source": [
    "class c5(object):\n",
    "    def __new__(cls):\n",
    "        print \"new ,ethod\"\n",
    "    def __init__(self,a):\n",
    "        print \"constructor\"\n",
    "        self.a=a\n",
    "    def get(self):\n",
    "        return self.a+10\n",
    "o5=c5(10,20)\n",
    "print o5.get()"
   ]
  },
  {
   "cell_type": "code",
   "execution_count": 70,
   "metadata": {
    "collapsed": false
   },
   "outputs": [
    {
     "ename": "TypeError",
     "evalue": "fun() takes exactly 4 arguments (3 given)",
     "output_type": "error",
     "traceback": [
      "\u001b[1;31m---------------------------------------------------------------------------\u001b[0m",
      "\u001b[1;31mTypeError\u001b[0m                                 Traceback (most recent call last)",
      "\u001b[1;32m<ipython-input-70-d84068a7594e>\u001b[0m in \u001b[0;36m<module>\u001b[1;34m()\u001b[0m\n\u001b[0;32m      6\u001b[0m         \u001b[1;32mprint\u001b[0m \u001b[0ma\u001b[0m\u001b[1;33m,\u001b[0m\u001b[0mb\u001b[0m\u001b[1;33m,\u001b[0m\u001b[0mc\u001b[0m\u001b[1;33m\u001b[0m\u001b[0m\n\u001b[0;32m      7\u001b[0m \u001b[0mo1\u001b[0m\u001b[1;33m=\u001b[0m\u001b[0mc1\u001b[0m\u001b[1;33m(\u001b[0m\u001b[1;33m)\u001b[0m\u001b[1;33m\u001b[0m\u001b[0m\n\u001b[1;32m----> 8\u001b[1;33m \u001b[0mo1\u001b[0m\u001b[1;33m.\u001b[0m\u001b[0mfun\u001b[0m\u001b[1;33m(\u001b[0m\u001b[1;36m10\u001b[0m\u001b[1;33m,\u001b[0m\u001b[1;36m20\u001b[0m\u001b[1;33m)\u001b[0m\u001b[1;33m\u001b[0m\u001b[0m\n\u001b[0m",
      "\u001b[1;31mTypeError\u001b[0m: fun() takes exactly 4 arguments (3 given)"
     ]
    }
   ],
   "source": [
    "# function overloading\n",
    "class c1:\n",
    "    def fun(self,a,b):\n",
    "        print a,b\n",
    "    def fun(self,a,b,c):\n",
    "        print a,b,c\n",
    "o1=c1()\n",
    "o1.fun(10,20)"
   ]
  },
  {
   "cell_type": "code",
   "execution_count": 68,
   "metadata": {
    "collapsed": true
   },
   "outputs": [],
   "source": [
    "a=10\n",
    "a=100"
   ]
  },
  {
   "cell_type": "code",
   "execution_count": 69,
   "metadata": {
    "collapsed": false
   },
   "outputs": [
    {
     "data": {
      "text/plain": [
       "100"
      ]
     },
     "execution_count": 69,
     "metadata": {},
     "output_type": "execute_result"
    }
   ],
   "source": [
    "a"
   ]
  },
  {
   "cell_type": "code",
   "execution_count": 74,
   "metadata": {
    "collapsed": false
   },
   "outputs": [
    {
     "name": "stdout",
     "output_type": "stream",
     "text": [
      "(10, 20)\n",
      "(10, 20, 30)\n"
     ]
    }
   ],
   "source": [
    "# function overloading\n",
    "class c1:\n",
    "    def fun(self,*args):\n",
    "        print args\n",
    "       \n",
    "o1=c1()\n",
    "o1.fun(10,20)\n",
    "o1.fun(10,20,30)"
   ]
  },
  {
   "cell_type": "code",
   "execution_count": 75,
   "metadata": {
    "collapsed": false
   },
   "outputs": [
    {
     "ename": "TypeError",
     "evalue": "__new__() takes exactly 1 argument (3 given)",
     "output_type": "error",
     "traceback": [
      "\u001b[1;31m---------------------------------------------------------------------------\u001b[0m",
      "\u001b[1;31mTypeError\u001b[0m                                 Traceback (most recent call last)",
      "\u001b[1;32m<ipython-input-75-27d72176d1f0>\u001b[0m in \u001b[0;36m<module>\u001b[1;34m()\u001b[0m\n\u001b[0;32m      7\u001b[0m     \u001b[1;32mdef\u001b[0m \u001b[0mget\u001b[0m\u001b[1;33m(\u001b[0m\u001b[0mself\u001b[0m\u001b[1;33m)\u001b[0m\u001b[1;33m:\u001b[0m\u001b[1;33m\u001b[0m\u001b[0m\n\u001b[0;32m      8\u001b[0m         \u001b[1;32mreturn\u001b[0m \u001b[0mself\u001b[0m\u001b[1;33m.\u001b[0m\u001b[0ma\u001b[0m\u001b[1;33m+\u001b[0m\u001b[1;36m10\u001b[0m\u001b[1;33m\u001b[0m\u001b[0m\n\u001b[1;32m----> 9\u001b[1;33m \u001b[0mo5\u001b[0m\u001b[1;33m=\u001b[0m\u001b[0mc5\u001b[0m\u001b[1;33m(\u001b[0m\u001b[1;36m10\u001b[0m\u001b[1;33m,\u001b[0m\u001b[1;36m20\u001b[0m\u001b[1;33m)\u001b[0m\u001b[1;33m\u001b[0m\u001b[0m\n\u001b[0m\u001b[0;32m     10\u001b[0m \u001b[1;32mprint\u001b[0m \u001b[0mo5\u001b[0m\u001b[1;33m.\u001b[0m\u001b[0mget\u001b[0m\u001b[1;33m(\u001b[0m\u001b[1;33m)\u001b[0m\u001b[1;33m\u001b[0m\u001b[0m\n",
      "\u001b[1;31mTypeError\u001b[0m: __new__() takes exactly 1 argument (3 given)"
     ]
    }
   ],
   "source": [
    "class c5(object):\n",
    "    def __new__(cls):\n",
    "        print \"new ,ethod\"\n",
    "    def __init__(self,a):\n",
    "        print \"constructor\"\n",
    "        self.a=a\n",
    "    def get(self):\n",
    "        return self.a+10\n",
    "o5=c5(10,20)\n",
    "print o5.get()"
   ]
  },
  {
   "cell_type": "code",
   "execution_count": 77,
   "metadata": {
    "collapsed": false
   },
   "outputs": [
    {
     "name": "stdout",
     "output_type": "stream",
     "text": [
      "new ,ethod\n",
      "None\n"
     ]
    },
    {
     "ename": "AttributeError",
     "evalue": "'NoneType' object has no attribute 'get'",
     "output_type": "error",
     "traceback": [
      "\u001b[1;31m---------------------------------------------------------------------------\u001b[0m",
      "\u001b[1;31mAttributeError\u001b[0m                            Traceback (most recent call last)",
      "\u001b[1;32m<ipython-input-77-ebb55ace869c>\u001b[0m in \u001b[0;36m<module>\u001b[1;34m()\u001b[0m\n\u001b[0;32m      9\u001b[0m \u001b[0mo5\u001b[0m\u001b[1;33m=\u001b[0m\u001b[0mc5\u001b[0m\u001b[1;33m(\u001b[0m\u001b[1;36m10\u001b[0m\u001b[1;33m,\u001b[0m\u001b[1;36m20\u001b[0m\u001b[1;33m)\u001b[0m\u001b[1;33m\u001b[0m\u001b[0m\n\u001b[0;32m     10\u001b[0m \u001b[1;32mprint\u001b[0m \u001b[0mo5\u001b[0m\u001b[1;33m\u001b[0m\u001b[0m\n\u001b[1;32m---> 11\u001b[1;33m \u001b[1;32mprint\u001b[0m \u001b[0mo5\u001b[0m\u001b[1;33m.\u001b[0m\u001b[0mget\u001b[0m\u001b[1;33m(\u001b[0m\u001b[1;33m)\u001b[0m\u001b[1;33m\u001b[0m\u001b[0m\n\u001b[0m",
      "\u001b[1;31mAttributeError\u001b[0m: 'NoneType' object has no attribute 'get'"
     ]
    }
   ],
   "source": [
    "class c5(object):\n",
    "    def __new__(cls,a,b):\n",
    "        print \"new ,ethod\"\n",
    "    def __init__(self,a):\n",
    "        print \"constructor\"\n",
    "        self.a=a\n",
    "    def get(self):\n",
    "        return self.a+10\n",
    "o5=c5(10,20)\n",
    "print o5\n",
    "print o5.get()"
   ]
  },
  {
   "cell_type": "code",
   "execution_count": 79,
   "metadata": {
    "collapsed": false
   },
   "outputs": [
    {
     "name": "stdout",
     "output_type": "stream",
     "text": [
      "constructor\n",
      "<__main__.c5 object at 0x7f23be7d31d0>\n",
      "20\n"
     ]
    }
   ],
   "source": [
    "class c5(object):\n",
    "    \n",
    "    def __init__(self,a,b):\n",
    "        print \"constructor\"\n",
    "        self.a=a\n",
    "    def get(self):\n",
    "        return self.a+10\n",
    "o5=c5(10,20)\n",
    "print o5\n",
    "print o5.get()"
   ]
  },
  {
   "cell_type": "code",
   "execution_count": 83,
   "metadata": {
    "collapsed": false
   },
   "outputs": [
    {
     "name": "stdout",
     "output_type": "stream",
     "text": [
      "new ,ethod\n",
      "10\n"
     ]
    },
    {
     "ename": "AttributeError",
     "evalue": "'int' object has no attribute 'get'",
     "output_type": "error",
     "traceback": [
      "\u001b[1;31m---------------------------------------------------------------------------\u001b[0m",
      "\u001b[1;31mAttributeError\u001b[0m                            Traceback (most recent call last)",
      "\u001b[1;32m<ipython-input-83-b25e41a9a397>\u001b[0m in \u001b[0;36m<module>\u001b[1;34m()\u001b[0m\n\u001b[0;32m     10\u001b[0m \u001b[0mo5\u001b[0m\u001b[1;33m=\u001b[0m\u001b[0mc5\u001b[0m\u001b[1;33m(\u001b[0m\u001b[1;36m10\u001b[0m\u001b[1;33m,\u001b[0m\u001b[1;36m20\u001b[0m\u001b[1;33m)\u001b[0m\u001b[1;33m\u001b[0m\u001b[0m\n\u001b[0;32m     11\u001b[0m \u001b[1;32mprint\u001b[0m \u001b[0mo5\u001b[0m\u001b[1;33m\u001b[0m\u001b[0m\n\u001b[1;32m---> 12\u001b[1;33m \u001b[1;32mprint\u001b[0m \u001b[0mo5\u001b[0m\u001b[1;33m.\u001b[0m\u001b[0mget\u001b[0m\u001b[1;33m(\u001b[0m\u001b[1;33m)\u001b[0m\u001b[1;33m\u001b[0m\u001b[0m\n\u001b[0m",
      "\u001b[1;31mAttributeError\u001b[0m: 'int' object has no attribute 'get'"
     ]
    }
   ],
   "source": [
    "class c5(object):\n",
    "    def __new__(cls,a,b):\n",
    "        print \"new ,ethod\"\n",
    "        return 10\n",
    "    def __init__(self,a):\n",
    "        print \"constructor\"\n",
    "        self.a=a\n",
    "    def get(self):\n",
    "        return self.a+10\n",
    "o5=c5(10,20)\n",
    "print o5\n",
    "print o5.get()"
   ]
  },
  {
   "cell_type": "code",
   "execution_count": 92,
   "metadata": {
    "collapsed": false
   },
   "outputs": [
    {
     "name": "stdout",
     "output_type": "stream",
     "text": [
      "new ,ethod\n",
      "constructor\n",
      "<__main__.c5 object at 0x7f23be7d3710>\n",
      "20\n"
     ]
    }
   ],
   "source": [
    "class c5(object):\n",
    "    def __new__(cls,a,b):\n",
    "        print \"new ,ethod\"\n",
    "        return super(c5,cls).__new__(cls)\n",
    "    def __init__(self,a,b):\n",
    "        print \"constructor\"\n",
    "        self.a=a\n",
    "    def get(self):\n",
    "        return self.a+10\n",
    "o5=c5(10,20)\n",
    "print o5\n",
    "print o5.get()"
   ]
  },
  {
   "cell_type": "code",
   "execution_count": 98,
   "metadata": {
    "collapsed": false
   },
   "outputs": [
    {
     "name": "stdout",
     "output_type": "stream",
     "text": [
      "20\n",
      "10\n"
     ]
    }
   ],
   "source": [
    "class c1(object):\n",
    "    def create(self,a):\n",
    "        print a\n",
    "class c2(c1):\n",
    "    def create(self,a,b):\n",
    "        print b\n",
    "        super(c2,self).create(a)\n",
    "o2=c2()\n",
    "o2.create(10,20)"
   ]
  },
  {
   "cell_type": "code",
   "execution_count": 100,
   "metadata": {
    "collapsed": false
   },
   "outputs": [
    {
     "name": "stdout",
     "output_type": "stream",
     "text": [
      "('python', 25)\n",
      "('anil', 23)\n",
      "('ashok', 24)\n"
     ]
    }
   ],
   "source": [
    "# singleton?\n",
    "class emp:\n",
    "    def __init__(self,name,age):\n",
    "        self.name=name\n",
    "        self.age=age\n",
    "    def get(self):\n",
    "        return self.name,self.age\n",
    "    \n",
    "anil = emp('anil',23)\n",
    "ashok=emp(\"ashok\",24)\n",
    "python=emp(\"python\",25)\n",
    "print  python.get()\n",
    "print anil.get()\n",
    "print ashok.get()\n"
   ]
  },
  {
   "cell_type": "code",
   "execution_count": 105,
   "metadata": {
    "collapsed": false
   },
   "outputs": [
    {
     "name": "stdout",
     "output_type": "stream",
     "text": [
      "constructor.....\n",
      "constructor.....\n",
      "139791496594640 139791496594640\n",
      "<__main__.c5 object at 0x7f23be7f44d0>\n",
      "110\n"
     ]
    }
   ],
   "source": [
    "class c5(object):\n",
    "    obj = None\n",
    "    def __new__(cls,a,b):\n",
    "        if not cls.obj:\n",
    "            cls.obj = super(c5,cls).__new__(cls)\n",
    "\n",
    "        return cls.obj\n",
    "    def __init__(self,a,b):\n",
    "        print \"constructor.....\"\n",
    "        self.a=a\n",
    "        \n",
    "    def get(self):\n",
    "        return self.a+10\n",
    "o5=c5(10,20)\n",
    "o6=c5(100,200)\n",
    "print id(o5),id(o6)\n",
    "print o5\n",
    "print o5.get()"
   ]
  },
  {
   "cell_type": "code",
   "execution_count": 106,
   "metadata": {
    "collapsed": false
   },
   "outputs": [
    {
     "name": "stdout",
     "output_type": "stream",
     "text": [
      "constructor.....\n"
     ]
    },
    {
     "ename": "Exception",
     "evalue": "Should not create second instance",
     "output_type": "error",
     "traceback": [
      "\u001b[1;31m---------------------------------------------------------------------------\u001b[0m",
      "\u001b[1;31mException\u001b[0m                                 Traceback (most recent call last)",
      "\u001b[1;32m<ipython-input-106-e9bf9ff5335d>\u001b[0m in \u001b[0;36m<module>\u001b[1;34m()\u001b[0m\n\u001b[0;32m     14\u001b[0m         \u001b[1;32mreturn\u001b[0m \u001b[0mself\u001b[0m\u001b[1;33m.\u001b[0m\u001b[0ma\u001b[0m\u001b[1;33m+\u001b[0m\u001b[1;36m10\u001b[0m\u001b[1;33m\u001b[0m\u001b[0m\n\u001b[0;32m     15\u001b[0m \u001b[0mo5\u001b[0m\u001b[1;33m=\u001b[0m\u001b[0mc5\u001b[0m\u001b[1;33m(\u001b[0m\u001b[1;36m10\u001b[0m\u001b[1;33m,\u001b[0m\u001b[1;36m20\u001b[0m\u001b[1;33m)\u001b[0m\u001b[1;33m\u001b[0m\u001b[0m\n\u001b[1;32m---> 16\u001b[1;33m \u001b[0mo6\u001b[0m\u001b[1;33m=\u001b[0m\u001b[0mc5\u001b[0m\u001b[1;33m(\u001b[0m\u001b[1;36m100\u001b[0m\u001b[1;33m,\u001b[0m\u001b[1;36m200\u001b[0m\u001b[1;33m)\u001b[0m\u001b[1;33m\u001b[0m\u001b[0m\n\u001b[0m\u001b[0;32m     17\u001b[0m \u001b[1;32mprint\u001b[0m \u001b[0mid\u001b[0m\u001b[1;33m(\u001b[0m\u001b[0mo5\u001b[0m\u001b[1;33m)\u001b[0m\u001b[1;33m,\u001b[0m\u001b[0mid\u001b[0m\u001b[1;33m(\u001b[0m\u001b[0mo6\u001b[0m\u001b[1;33m)\u001b[0m\u001b[1;33m\u001b[0m\u001b[0m\n\u001b[0;32m     18\u001b[0m \u001b[1;32mprint\u001b[0m \u001b[0mo5\u001b[0m\u001b[1;33m\u001b[0m\u001b[0m\n",
      "\u001b[1;32m<ipython-input-106-e9bf9ff5335d>\u001b[0m in \u001b[0;36m__new__\u001b[1;34m(cls, a, b)\u001b[0m\n\u001b[0;32m      5\u001b[0m             \u001b[0mcls\u001b[0m\u001b[1;33m.\u001b[0m\u001b[0mobj\u001b[0m \u001b[1;33m=\u001b[0m \u001b[0msuper\u001b[0m\u001b[1;33m(\u001b[0m\u001b[0mc5\u001b[0m\u001b[1;33m,\u001b[0m\u001b[0mcls\u001b[0m\u001b[1;33m)\u001b[0m\u001b[1;33m.\u001b[0m\u001b[0m__new__\u001b[0m\u001b[1;33m(\u001b[0m\u001b[0mcls\u001b[0m\u001b[1;33m)\u001b[0m\u001b[1;33m\u001b[0m\u001b[0m\n\u001b[0;32m      6\u001b[0m         \u001b[1;32melse\u001b[0m\u001b[1;33m:\u001b[0m\u001b[1;33m\u001b[0m\u001b[0m\n\u001b[1;32m----> 7\u001b[1;33m             \u001b[1;32mraise\u001b[0m \u001b[0mException\u001b[0m\u001b[1;33m(\u001b[0m\u001b[1;34m\"Should not create second instance\"\u001b[0m\u001b[1;33m)\u001b[0m\u001b[1;33m\u001b[0m\u001b[0m\n\u001b[0m\u001b[0;32m      8\u001b[0m         \u001b[1;32mreturn\u001b[0m \u001b[0mcls\u001b[0m\u001b[1;33m.\u001b[0m\u001b[0mobj\u001b[0m\u001b[1;33m\u001b[0m\u001b[0m\n\u001b[0;32m      9\u001b[0m     \u001b[1;32mdef\u001b[0m \u001b[0m__init__\u001b[0m\u001b[1;33m(\u001b[0m\u001b[0mself\u001b[0m\u001b[1;33m,\u001b[0m\u001b[0ma\u001b[0m\u001b[1;33m,\u001b[0m\u001b[0mb\u001b[0m\u001b[1;33m)\u001b[0m\u001b[1;33m:\u001b[0m\u001b[1;33m\u001b[0m\u001b[0m\n",
      "\u001b[1;31mException\u001b[0m: Should not create second instance"
     ]
    }
   ],
   "source": [
    "class c5(object):\n",
    "    obj = None\n",
    "    def __new__(cls,a,b):\n",
    "        if not cls.obj:\n",
    "            cls.obj = super(c5,cls).__new__(cls)\n",
    "        else:\n",
    "            raise Exception(\"Should not create second instance\")\n",
    "        return cls.obj\n",
    "    def __init__(self,a,b):\n",
    "        print \"constructor.....\"\n",
    "        self.a=a\n",
    "        \n",
    "    def get(self):\n",
    "        return self.a+10\n",
    "o5=c5(10,20)\n",
    "o6=c5(100,200)\n",
    "print id(o5),id(o6)\n",
    "print o5\n",
    "print o5.get()"
   ]
  },
  {
   "cell_type": "code",
   "execution_count": 108,
   "metadata": {
    "collapsed": false
   },
   "outputs": [
    {
     "name": "stdout",
     "output_type": "stream",
     "text": [
      "10\n"
     ]
    }
   ],
   "source": [
    "# polymorphism\n",
    "class model:\n",
    "    def create(self):\n",
    "        print self.data\n",
    "class table(model):\n",
    "    def __init__(self,data):\n",
    "        self.data=data\n",
    "t1=table(10)\n",
    "t1.create()"
   ]
  },
  {
   "cell_type": "code",
   "execution_count": 110,
   "metadata": {
    "collapsed": false
   },
   "outputs": [
    {
     "name": "stdout",
     "output_type": "stream",
     "text": [
      "verify\n",
      "insert\n"
     ]
    }
   ],
   "source": [
    "# polymorphism\n",
    "class model:\n",
    "    def create(self):\n",
    "        print \"insert\"\n",
    "        print self.data\n",
    "class table(model):\n",
    "    def __init__(self,data):\n",
    "        self.data=data\n",
    "    def insert(self):\n",
    "        print \"verify\"\n",
    "        print \"insert\"\n",
    "t1=table(10)\n",
    "t1.insert()"
   ]
  },
  {
   "cell_type": "code",
   "execution_count": 111,
   "metadata": {
    "collapsed": false
   },
   "outputs": [
    {
     "name": "stdout",
     "output_type": "stream",
     "text": [
      "verify\n",
      "insert\n",
      "10\n"
     ]
    }
   ],
   "source": [
    "# polymorphism\n",
    "class model:\n",
    "    def create(self):\n",
    "        print \"insert\"\n",
    "        print self.data\n",
    "class table(model):\n",
    "    def __init__(self,data):\n",
    "        self.data=data\n",
    "    def insert(self):\n",
    "        print \"verify\"\n",
    "        self.create()\n",
    "t1=table(10)\n",
    "t1.insert()"
   ]
  },
  {
   "cell_type": "code",
   "execution_count": 113,
   "metadata": {
    "collapsed": false
   },
   "outputs": [
    {
     "name": "stdout",
     "output_type": "stream",
     "text": [
      "verify\n",
      "insert\n",
      "10\n",
      "insert\n",
      "20\n"
     ]
    }
   ],
   "source": [
    "# polymorphism\n",
    "class model:\n",
    "    def create(self):\n",
    "        print \"insert\"\n",
    "        print self.data\n",
    "class table1(model):\n",
    "    def __init__(self,data):\n",
    "        self.data=data\n",
    "    def insert(self):\n",
    "        print \"verify\"\n",
    "        self.create()\n",
    "class table2(model):\n",
    "    def __init__(self,data):\n",
    "        self.data=data\n",
    "t1=table1(10)\n",
    "t1.insert()\n",
    "t2=table2(20)\n",
    "t2.create()"
   ]
  },
  {
   "cell_type": "code",
   "execution_count": 114,
   "metadata": {
    "collapsed": false
   },
   "outputs": [
    {
     "name": "stdout",
     "output_type": "stream",
     "text": [
      "verify\n",
      "insert\n",
      "10\n",
      "insert\n",
      "20\n"
     ]
    }
   ],
   "source": [
    "# polymorphism\n",
    "class model:\n",
    "    def create(self):\n",
    "        print \"insert\"\n",
    "        print self.data\n",
    "class table1(model):\n",
    "    def __init__(self,data):\n",
    "        self.data=data\n",
    "    def create(self):\n",
    "        print \"verify\"\n",
    "        model.create(self)\n",
    "class table2(model):\n",
    "    def __init__(self,data):\n",
    "        self.data=data\n",
    "t1=table1(10)\n",
    "t1.create()\n",
    "t2=table2(20)\n",
    "t2.create()"
   ]
  },
  {
   "cell_type": "code",
   "execution_count": 115,
   "metadata": {
    "collapsed": false
   },
   "outputs": [
    {
     "name": "stdout",
     "output_type": "stream",
     "text": [
      "verify\n",
      "insert\n",
      "10\n",
      "insert\n",
      "20\n"
     ]
    }
   ],
   "source": [
    "# polymorphism\n",
    "class model(object):\n",
    "    def create(self):\n",
    "        print \"insert\"\n",
    "        print self.data\n",
    "class table1(model):\n",
    "    def __init__(self,data):\n",
    "        self.data=data\n",
    "    def create(self):\n",
    "        print \"verify\"\n",
    "        super(table1,self).create()\n",
    "class table2(model):\n",
    "    def __init__(self,data):\n",
    "        self.data=data\n",
    "t1=table1(10)\n",
    "t1.create()\n",
    "t2=table2(20)\n",
    "t2.create()"
   ]
  },
  {
   "cell_type": "code",
   "execution_count": null,
   "metadata": {
    "collapsed": true
   },
   "outputs": [],
   "source": []
  }
 ],
 "metadata": {
  "kernelspec": {
   "display_name": "Python 2",
   "language": "python",
   "name": "python2"
  },
  "language_info": {
   "codemirror_mode": {
    "name": "ipython",
    "version": 2
   },
   "file_extension": ".py",
   "mimetype": "text/x-python",
   "name": "python",
   "nbconvert_exporter": "python",
   "pygments_lexer": "ipython2",
   "version": "2.7.11"
  }
 },
 "nbformat": 4,
 "nbformat_minor": 0
}
