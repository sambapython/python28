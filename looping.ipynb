{
 "cells": [
  {
   "cell_type": "code",
   "execution_count": 1,
   "metadata": {
    "collapsed": false
   },
   "outputs": [
    {
     "name": "stdout",
     "output_type": "stream",
     "text": [
      "st1\n",
      "st2\n",
      "st3\n",
      "st4\n"
     ]
    }
   ],
   "source": [
    "# while\n",
    "#for \n",
    "print \"st1\"\n",
    "print \"st2\"\n",
    "print \"st3\"\n",
    "print \"st4\""
   ]
  },
  {
   "cell_type": "code",
   "execution_count": 2,
   "metadata": {
    "collapsed": false
   },
   "outputs": [
    {
     "name": "stdout",
     "output_type": "stream",
     "text": [
      "st0\n",
      "st1\n",
      "st2\n",
      "st3\n",
      "st4\n",
      "st5\n",
      "st6\n",
      "st7\n",
      "st8\n",
      "st9\n"
     ]
    }
   ],
   "source": [
    "for i in range(10):\n",
    "    print \"st\"+str(i)"
   ]
  },
  {
   "cell_type": "code",
   "execution_count": null,
   "metadata": {
    "collapsed": true
   },
   "outputs": [],
   "source": [
    "print \"program started\"\n",
    "i=0\n",
    "while i<10:\n",
    "    print \"iteration started\"\n",
    "    print \"i=\",i\n",
    "    print \"iteration ended\"\n",
    "    \n",
    "print \"other statements\"\n",
    "print \"program ending statements\""
   ]
  },
  {
   "cell_type": "code",
   "execution_count": 3,
   "metadata": {
    "collapsed": false
   },
   "outputs": [
    {
     "name": "stdout",
     "output_type": "stream",
     "text": [
      "program started\n",
      "iteration started\n",
      "i= 0\n",
      "iteration ended\n",
      "iteration started\n",
      "i= 1\n",
      "iteration ended\n",
      "other statements\n",
      "program ending statements\n"
     ]
    }
   ],
   "source": [
    "print \"program started\"\n",
    "i=0\n",
    "while i<2:\n",
    "    print \"iteration started\"\n",
    "    print \"i=\",i\n",
    "    print \"iteration ended\"\n",
    "    i=i+1\n",
    "    \n",
    "print \"other statements\"\n",
    "print \"program ending statements\""
   ]
  },
  {
   "cell_type": "code",
   "execution_count": 4,
   "metadata": {
    "collapsed": false
   },
   "outputs": [
    {
     "name": "stdout",
     "output_type": "stream",
     "text": [
      "program started\n",
      "iteration started\n",
      "i= 0\n",
      "iteration ended\n",
      "other statements\n",
      "iteration started\n",
      "i= 1\n",
      "iteration ended\n",
      "other statements\n",
      "program ending statements\n"
     ]
    }
   ],
   "source": [
    "print \"program started\"\n",
    "i=0\n",
    "while i<2:\n",
    "    print \"iteration started\"\n",
    "    print \"i=\",i\n",
    "    print \"iteration ended\"\n",
    "    i=i+1\n",
    "    \n",
    "    print \"other statements\"\n",
    "print \"program ending statements\""
   ]
  },
  {
   "cell_type": "code",
   "execution_count": null,
   "metadata": {
    "collapsed": true
   },
   "outputs": [],
   "source": [
    "print \"program started\"\n",
    "i=0\n",
    "for i in \"abc\":\n",
    "    print \"iteration started\"\n",
    "    print \"i=\",i\n",
    "    print \"iteration ended\"\n",
    "print \"program ending statements\""
   ]
  },
  {
   "cell_type": "code",
   "execution_count": 5,
   "metadata": {
    "collapsed": true
   },
   "outputs": [],
   "source": [
    "s=\"python program\""
   ]
  },
  {
   "cell_type": "code",
   "execution_count": 6,
   "metadata": {
    "collapsed": false
   },
   "outputs": [
    {
     "name": "stdout",
     "output_type": "stream",
     "text": [
      "p\n"
     ]
    }
   ],
   "source": [
    "print s[0]"
   ]
  },
  {
   "cell_type": "code",
   "execution_count": 7,
   "metadata": {
    "collapsed": false
   },
   "outputs": [
    {
     "name": "stdout",
     "output_type": "stream",
     "text": [
      "o\n"
     ]
    }
   ],
   "source": [
    "print s[4]"
   ]
  },
  {
   "cell_type": "code",
   "execution_count": 8,
   "metadata": {
    "collapsed": false
   },
   "outputs": [
    {
     "name": "stdout",
     "output_type": "stream",
     "text": [
      "m\n"
     ]
    }
   ],
   "source": [
    "print s[-1]"
   ]
  },
  {
   "cell_type": "code",
   "execution_count": 9,
   "metadata": {
    "collapsed": false
   },
   "outputs": [
    {
     "name": "stdout",
     "output_type": "stream",
     "text": [
      "r\n"
     ]
    }
   ],
   "source": [
    "print s[-3]"
   ]
  },
  {
   "cell_type": "code",
   "execution_count": 10,
   "metadata": {
    "collapsed": false
   },
   "outputs": [
    {
     "name": "stdout",
     "output_type": "stream",
     "text": [
      " \n"
     ]
    }
   ],
   "source": [
    "print s[6]"
   ]
  },
  {
   "cell_type": "code",
   "execution_count": 11,
   "metadata": {
    "collapsed": false
   },
   "outputs": [
    {
     "name": "stdout",
     "output_type": "stream",
     "text": [
      "program started\n",
      "iteration started\n",
      "i= p\n",
      "iteration ended\n",
      "iteration started\n",
      "i= y\n",
      "iteration ended\n",
      "iteration started\n",
      "i= t\n",
      "iteration ended\n",
      "iteration started\n",
      "i= h\n",
      "iteration ended\n",
      "iteration started\n",
      "i= o\n",
      "iteration ended\n",
      "iteration started\n",
      "i= n\n",
      "iteration ended\n",
      "program ending statements\n"
     ]
    }
   ],
   "source": [
    "print \"program started\"\n",
    "i=0\n",
    "for i in \"python\":\n",
    "    print \"iteration started\"\n",
    "    print \"i=\",i\n",
    "    print \"iteration ended\"\n",
    "print \"program ending statements\""
   ]
  },
  {
   "cell_type": "code",
   "execution_count": 12,
   "metadata": {
    "collapsed": false
   },
   "outputs": [
    {
     "data": {
      "text/plain": [
       "'name1'"
      ]
     },
     "execution_count": 12,
     "metadata": {},
     "output_type": "execute_result"
    }
   ],
   "source": [
    "emp_names=['name1','name2','name3','name4']\n",
    "emp_names[0]"
   ]
  },
  {
   "cell_type": "code",
   "execution_count": 13,
   "metadata": {
    "collapsed": false
   },
   "outputs": [
    {
     "data": {
      "text/plain": [
       "'p'"
      ]
     },
     "execution_count": 13,
     "metadata": {},
     "output_type": "execute_result"
    }
   ],
   "source": [
    "s=\"python\"\n",
    "s[0]"
   ]
  },
  {
   "cell_type": "code",
   "execution_count": 14,
   "metadata": {
    "collapsed": false
   },
   "outputs": [
    {
     "name": "stdout",
     "output_type": "stream",
     "text": [
      "program started\n",
      "iteration started\n",
      "i= p\n",
      "iteration ended\n",
      "iteration started\n",
      "i= y\n",
      "iteration ended\n",
      "iteration started\n",
      "i= t\n",
      "iteration ended\n",
      "iteration started\n",
      "i= h\n",
      "iteration ended\n",
      "iteration started\n",
      "i= o\n",
      "iteration ended\n",
      "iteration started\n",
      "i= n\n",
      "iteration ended\n",
      "iteration started\n",
      "i=  \n",
      "iteration ended\n",
      "iteration started\n",
      "i= p\n",
      "iteration ended\n",
      "iteration started\n",
      "i= r\n",
      "iteration ended\n",
      "iteration started\n",
      "i= o\n",
      "iteration ended\n",
      "iteration started\n",
      "i= g\n",
      "iteration ended\n",
      "iteration started\n",
      "i= r\n",
      "iteration ended\n",
      "iteration started\n",
      "i= a\n",
      "iteration ended\n",
      "iteration started\n",
      "i= m\n",
      "iteration ended\n",
      "program ending statements\n"
     ]
    }
   ],
   "source": [
    "s=\"python program\"\n",
    "print \"program started\"\n",
    "for i in s:\n",
    "    print \"iteration started\"\n",
    "    print \"i=\",i\n",
    "    print \"iteration ended\"\n",
    "print \"program ending statements\""
   ]
  },
  {
   "cell_type": "code",
   "execution_count": 15,
   "metadata": {
    "collapsed": false
   },
   "outputs": [
    {
     "name": "stdout",
     "output_type": "stream",
     "text": [
      "program started\n",
      "iteration started\n",
      "i= p\n",
      "iteration ended\n",
      "iteration started\n",
      "i= y\n",
      "iteration ended\n",
      "iteration started\n",
      "i= t\n",
      "iteration ended\n",
      "iteration started\n",
      "i= h\n",
      "iteration ended\n",
      "iteration started\n",
      "i= o\n",
      "iteration ended\n",
      "iteration started\n",
      "i= n\n",
      "iteration ended\n",
      "iteration started\n",
      "i=  \n",
      "iteration ended\n",
      "iteration started\n",
      "i= p\n",
      "iteration ended\n",
      "iteration started\n",
      "i= r\n",
      "iteration ended\n",
      "iteration started\n",
      "i= o\n",
      "iteration ended\n",
      "iteration started\n",
      "i= g\n",
      "iteration ended\n",
      "iteration started\n",
      "i= r\n",
      "iteration ended\n",
      "iteration started\n",
      "i= a\n",
      "iteration ended\n",
      "iteration started\n",
      "i= m\n",
      "iteration ended\n",
      "program ending statements\n"
     ]
    }
   ],
   "source": [
    "s=\"python program\"\n",
    "print \"program started\"\n",
    "i=0\n",
    "while i<len(s):\n",
    "    print \"iteration started\"\n",
    "    print \"i=\",s[i]\n",
    "    print \"iteration ended\"\n",
    "    i=i+1\n",
    "print \"program ending statements\"\n"
   ]
  },
  {
   "cell_type": "code",
   "execution_count": 16,
   "metadata": {
    "collapsed": false
   },
   "outputs": [
    {
     "data": {
      "text/plain": [
       "'python program'"
      ]
     },
     "execution_count": 16,
     "metadata": {},
     "output_type": "execute_result"
    }
   ],
   "source": [
    "s"
   ]
  },
  {
   "cell_type": "code",
   "execution_count": 17,
   "metadata": {
    "collapsed": false
   },
   "outputs": [
    {
     "data": {
      "text/plain": [
       "'p'"
      ]
     },
     "execution_count": 17,
     "metadata": {},
     "output_type": "execute_result"
    }
   ],
   "source": [
    "s[0]"
   ]
  },
  {
   "cell_type": "code",
   "execution_count": 18,
   "metadata": {
    "collapsed": false
   },
   "outputs": [
    {
     "data": {
      "text/plain": [
       "'y'"
      ]
     },
     "execution_count": 18,
     "metadata": {},
     "output_type": "execute_result"
    }
   ],
   "source": [
    "s[1]"
   ]
  },
  {
   "cell_type": "code",
   "execution_count": 20,
   "metadata": {
    "collapsed": false
   },
   "outputs": [
    {
     "data": {
      "text/plain": [
       "'t'"
      ]
     },
     "execution_count": 20,
     "metadata": {},
     "output_type": "execute_result"
    }
   ],
   "source": [
    "s[2]"
   ]
  },
  {
   "cell_type": "code",
   "execution_count": 21,
   "metadata": {
    "collapsed": false
   },
   "outputs": [
    {
     "data": {
      "text/plain": [
       "'pyt'"
      ]
     },
     "execution_count": 21,
     "metadata": {},
     "output_type": "execute_result"
    }
   ],
   "source": [
    "s[0]+s[1]+s[2]"
   ]
  },
  {
   "cell_type": "code",
   "execution_count": 22,
   "metadata": {
    "collapsed": false
   },
   "outputs": [
    {
     "data": {
      "text/plain": [
       "'pyt'"
      ]
     },
     "execution_count": 22,
     "metadata": {},
     "output_type": "execute_result"
    }
   ],
   "source": [
    "s[0:3]"
   ]
  },
  {
   "cell_type": "code",
   "execution_count": 23,
   "metadata": {
    "collapsed": false
   },
   "outputs": [
    {
     "data": {
      "text/plain": [
       "'python pro'"
      ]
     },
     "execution_count": 23,
     "metadata": {},
     "output_type": "execute_result"
    }
   ],
   "source": [
    "s[0:10]"
   ]
  },
  {
   "cell_type": "code",
   "execution_count": 24,
   "metadata": {
    "collapsed": false
   },
   "outputs": [
    {
     "data": {
      "text/plain": [
       "'python pro'"
      ]
     },
     "execution_count": 24,
     "metadata": {},
     "output_type": "execute_result"
    }
   ],
   "source": [
    "s[:10]"
   ]
  },
  {
   "cell_type": "code",
   "execution_count": 25,
   "metadata": {
    "collapsed": false
   },
   "outputs": [
    {
     "data": {
      "text/plain": [
       "'n program'"
      ]
     },
     "execution_count": 25,
     "metadata": {},
     "output_type": "execute_result"
    }
   ],
   "source": [
    "s[5:]"
   ]
  },
  {
   "cell_type": "code",
   "execution_count": 26,
   "metadata": {
    "collapsed": false
   },
   "outputs": [
    {
     "data": {
      "text/plain": [
       "'ogra'"
      ]
     },
     "execution_count": 26,
     "metadata": {},
     "output_type": "execute_result"
    }
   ],
   "source": [
    "s[-5:-1]"
   ]
  },
  {
   "cell_type": "code",
   "execution_count": 27,
   "metadata": {
    "collapsed": false
   },
   "outputs": [
    {
     "data": {
      "text/plain": [
       "'python program'"
      ]
     },
     "execution_count": 27,
     "metadata": {},
     "output_type": "execute_result"
    }
   ],
   "source": [
    "s"
   ]
  },
  {
   "cell_type": "code",
   "execution_count": 28,
   "metadata": {
    "collapsed": false
   },
   "outputs": [
    {
     "data": {
      "text/plain": [
       "'n pro'"
      ]
     },
     "execution_count": 28,
     "metadata": {},
     "output_type": "execute_result"
    }
   ],
   "source": [
    "s[5:10]"
   ]
  },
  {
   "cell_type": "code",
   "execution_count": 29,
   "metadata": {
    "collapsed": false
   },
   "outputs": [
    {
     "data": {
      "text/plain": [
       "''"
      ]
     },
     "execution_count": 29,
     "metadata": {},
     "output_type": "execute_result"
    }
   ],
   "source": [
    "s[10:5]"
   ]
  },
  {
   "cell_type": "code",
   "execution_count": 30,
   "metadata": {
    "collapsed": false
   },
   "outputs": [
    {
     "data": {
      "text/plain": [
       "'python program'"
      ]
     },
     "execution_count": 30,
     "metadata": {},
     "output_type": "execute_result"
    }
   ],
   "source": [
    "s"
   ]
  },
  {
   "cell_type": "code",
   "execution_count": 31,
   "metadata": {
    "collapsed": false
   },
   "outputs": [
    {
     "data": {
      "text/plain": [
       "14"
      ]
     },
     "execution_count": 31,
     "metadata": {},
     "output_type": "execute_result"
    }
   ],
   "source": [
    "len(s)"
   ]
  },
  {
   "cell_type": "code",
   "execution_count": 32,
   "metadata": {
    "collapsed": false
   },
   "outputs": [
    {
     "data": {
      "text/plain": [
       "'m'"
      ]
     },
     "execution_count": 32,
     "metadata": {},
     "output_type": "execute_result"
    }
   ],
   "source": [
    "s[13]"
   ]
  },
  {
   "cell_type": "code",
   "execution_count": 33,
   "metadata": {
    "collapsed": false
   },
   "outputs": [
    {
     "ename": "IndexError",
     "evalue": "string index out of range",
     "output_type": "error",
     "traceback": [
      "\u001b[1;31m---------------------------------------------------------------------------\u001b[0m",
      "\u001b[1;31mIndexError\u001b[0m                                Traceback (most recent call last)",
      "\u001b[1;32m<ipython-input-33-057690f8ca17>\u001b[0m in \u001b[0;36m<module>\u001b[1;34m()\u001b[0m\n\u001b[1;32m----> 1\u001b[1;33m \u001b[0ms\u001b[0m\u001b[1;33m[\u001b[0m\u001b[1;36m14\u001b[0m\u001b[1;33m]\u001b[0m\u001b[1;33m\u001b[0m\u001b[0m\n\u001b[0m",
      "\u001b[1;31mIndexError\u001b[0m: string index out of range"
     ]
    }
   ],
   "source": [
    "s[14]"
   ]
  },
  {
   "cell_type": "code",
   "execution_count": 34,
   "metadata": {
    "collapsed": false
   },
   "outputs": [
    {
     "ename": "IndexError",
     "evalue": "string index out of range",
     "output_type": "error",
     "traceback": [
      "\u001b[1;31m---------------------------------------------------------------------------\u001b[0m",
      "\u001b[1;31mIndexError\u001b[0m                                Traceback (most recent call last)",
      "\u001b[1;32m<ipython-input-34-7e8ece4b37b8>\u001b[0m in \u001b[0;36m<module>\u001b[1;34m()\u001b[0m\n\u001b[1;32m----> 1\u001b[1;33m \u001b[0ms\u001b[0m\u001b[1;33m[\u001b[0m\u001b[1;36m20\u001b[0m\u001b[1;33m]\u001b[0m\u001b[1;33m\u001b[0m\u001b[0m\n\u001b[0m",
      "\u001b[1;31mIndexError\u001b[0m: string index out of range"
     ]
    }
   ],
   "source": [
    "s[20]"
   ]
  },
  {
   "cell_type": "code",
   "execution_count": 35,
   "metadata": {
    "collapsed": false
   },
   "outputs": [
    {
     "data": {
      "text/plain": [
       "'n pro'"
      ]
     },
     "execution_count": 35,
     "metadata": {},
     "output_type": "execute_result"
    }
   ],
   "source": [
    "s[5:10]"
   ]
  },
  {
   "cell_type": "code",
   "execution_count": 36,
   "metadata": {
    "collapsed": false
   },
   "outputs": [
    {
     "data": {
      "text/plain": [
       "'pto r'"
      ]
     },
     "execution_count": 36,
     "metadata": {},
     "output_type": "execute_result"
    }
   ],
   "source": [
    "s[0:10:2]"
   ]
  },
  {
   "cell_type": "code",
   "execution_count": 37,
   "metadata": {
    "collapsed": false
   },
   "outputs": [
    {
     "data": {
      "text/plain": [
       "'ph o'"
      ]
     },
     "execution_count": 37,
     "metadata": {},
     "output_type": "execute_result"
    }
   ],
   "source": [
    "s[0:10:3]"
   ]
  },
  {
   "cell_type": "code",
   "execution_count": 38,
   "metadata": {
    "collapsed": false
   },
   "outputs": [
    {
     "data": {
      "text/plain": [
       "'python program'"
      ]
     },
     "execution_count": 38,
     "metadata": {},
     "output_type": "execute_result"
    }
   ],
   "source": [
    "s"
   ]
  },
  {
   "cell_type": "code",
   "execution_count": 39,
   "metadata": {
    "collapsed": false
   },
   "outputs": [
    {
     "data": {
      "text/plain": [
       "'pto rga'"
      ]
     },
     "execution_count": 39,
     "metadata": {},
     "output_type": "execute_result"
    }
   ],
   "source": [
    "s[::2]"
   ]
  },
  {
   "cell_type": "code",
   "execution_count": 40,
   "metadata": {
    "collapsed": false
   },
   "outputs": [
    {
     "data": {
      "text/plain": [
       "'python pro'"
      ]
     },
     "execution_count": 40,
     "metadata": {},
     "output_type": "execute_result"
    }
   ],
   "source": [
    "s[0:10]"
   ]
  },
  {
   "cell_type": "code",
   "execution_count": 41,
   "metadata": {
    "collapsed": false
   },
   "outputs": [
    {
     "data": {
      "text/plain": [
       "'pto r'"
      ]
     },
     "execution_count": 41,
     "metadata": {},
     "output_type": "execute_result"
    }
   ],
   "source": [
    "s[0:10:2]"
   ]
  },
  {
   "cell_type": "code",
   "execution_count": 42,
   "metadata": {
    "collapsed": false
   },
   "outputs": [
    {
     "data": {
      "text/plain": [
       "''"
      ]
     },
     "execution_count": 42,
     "metadata": {},
     "output_type": "execute_result"
    }
   ],
   "source": [
    "s[10:5]"
   ]
  },
  {
   "cell_type": "code",
   "execution_count": 43,
   "metadata": {
    "collapsed": false
   },
   "outputs": [
    {
     "data": {
      "text/plain": [
       "'gorp '"
      ]
     },
     "execution_count": 43,
     "metadata": {},
     "output_type": "execute_result"
    }
   ],
   "source": [
    "s[10:5:-1]"
   ]
  },
  {
   "cell_type": "code",
   "execution_count": 44,
   "metadata": {
    "collapsed": false
   },
   "outputs": [
    {
     "data": {
      "text/plain": [
       "'margorp nohtyp'"
      ]
     },
     "execution_count": 44,
     "metadata": {},
     "output_type": "execute_result"
    }
   ],
   "source": [
    "s[::-1]"
   ]
  },
  {
   "cell_type": "code",
   "execution_count": 45,
   "metadata": {
    "collapsed": false
   },
   "outputs": [
    {
     "ename": "ValueError",
     "evalue": "slice step cannot be zero",
     "output_type": "error",
     "traceback": [
      "\u001b[1;31m---------------------------------------------------------------------------\u001b[0m",
      "\u001b[1;31mValueError\u001b[0m                                Traceback (most recent call last)",
      "\u001b[1;32m<ipython-input-45-ed7e5fc891fa>\u001b[0m in \u001b[0;36m<module>\u001b[1;34m()\u001b[0m\n\u001b[1;32m----> 1\u001b[1;33m \u001b[0ms\u001b[0m\u001b[1;33m[\u001b[0m\u001b[1;36m0\u001b[0m\u001b[1;33m:\u001b[0m\u001b[1;36m10\u001b[0m\u001b[1;33m:\u001b[0m\u001b[1;36m0\u001b[0m\u001b[1;33m]\u001b[0m\u001b[1;33m\u001b[0m\u001b[0m\n\u001b[0m",
      "\u001b[1;31mValueError\u001b[0m: slice step cannot be zero"
     ]
    }
   ],
   "source": [
    "s[0:10:0]"
   ]
  },
  {
   "cell_type": "code",
   "execution_count": 46,
   "metadata": {
    "collapsed": false
   },
   "outputs": [
    {
     "data": {
      "text/plain": [
       "'pn'"
      ]
     },
     "execution_count": 46,
     "metadata": {},
     "output_type": "execute_result"
    }
   ],
   "source": [
    "s[0:10:5]"
   ]
  },
  {
   "cell_type": "code",
   "execution_count": 47,
   "metadata": {
    "collapsed": false
   },
   "outputs": [
    {
     "data": {
      "text/plain": [
       "'python program'"
      ]
     },
     "execution_count": 47,
     "metadata": {},
     "output_type": "execute_result"
    }
   ],
   "source": [
    "s"
   ]
  },
  {
   "cell_type": "code",
   "execution_count": 48,
   "metadata": {
    "collapsed": false
   },
   "outputs": [
    {
     "name": "stdout",
     "output_type": "stream",
     "text": [
      "p\n",
      "t\n",
      "o\n",
      " \n",
      "r\n",
      "g\n",
      "a\n"
     ]
    }
   ],
   "source": [
    "for i in s[::2]:\n",
    "    print i"
   ]
  },
  {
   "cell_type": "code",
   "execution_count": 49,
   "metadata": {
    "collapsed": false
   },
   "outputs": [
    {
     "name": "stdout",
     "output_type": "stream",
     "text": [
      "program started\n",
      "iteration started\n",
      "i= m\n",
      "iteration ended\n",
      "iteration started\n",
      "i= a\n",
      "iteration ended\n",
      "iteration started\n",
      "i= r\n",
      "iteration ended\n",
      "iteration started\n",
      "i= g\n",
      "iteration ended\n",
      "iteration started\n",
      "i= o\n",
      "iteration ended\n",
      "iteration started\n",
      "i= r\n",
      "iteration ended\n",
      "iteration started\n",
      "i= p\n",
      "iteration ended\n",
      "iteration started\n",
      "i=  \n",
      "iteration ended\n",
      "iteration started\n",
      "i= n\n",
      "iteration ended\n",
      "iteration started\n",
      "i= o\n",
      "iteration ended\n",
      "iteration started\n",
      "i= h\n",
      "iteration ended\n",
      "iteration started\n",
      "i= t\n",
      "iteration ended\n",
      "iteration started\n",
      "i= y\n",
      "iteration ended\n",
      "iteration started\n",
      "i= p\n",
      "iteration ended\n",
      "program ending statements\n"
     ]
    }
   ],
   "source": [
    "s=\"python program\"\n",
    "print \"program started\"\n",
    "for i in s[::-1]:\n",
    "    print \"iteration started\"\n",
    "    print \"i=\",i\n",
    "    print \"iteration ended\"\n",
    "print \"program ending statements\""
   ]
  },
  {
   "cell_type": "code",
   "execution_count": 50,
   "metadata": {
    "collapsed": false
   },
   "outputs": [
    {
     "ename": "IndexError",
     "evalue": "string index out of range",
     "output_type": "error",
     "traceback": [
      "\u001b[1;31m---------------------------------------------------------------------------\u001b[0m",
      "\u001b[1;31mIndexError\u001b[0m                                Traceback (most recent call last)",
      "\u001b[1;32m<ipython-input-50-7e8ece4b37b8>\u001b[0m in \u001b[0;36m<module>\u001b[1;34m()\u001b[0m\n\u001b[1;32m----> 1\u001b[1;33m \u001b[0ms\u001b[0m\u001b[1;33m[\u001b[0m\u001b[1;36m20\u001b[0m\u001b[1;33m]\u001b[0m\u001b[1;33m\u001b[0m\u001b[0m\n\u001b[0m",
      "\u001b[1;31mIndexError\u001b[0m: string index out of range"
     ]
    }
   ],
   "source": [
    "s[20]"
   ]
  },
  {
   "cell_type": "code",
   "execution_count": 51,
   "metadata": {
    "collapsed": false
   },
   "outputs": [
    {
     "data": {
      "text/plain": [
       "'n program'"
      ]
     },
     "execution_count": 51,
     "metadata": {},
     "output_type": "execute_result"
    }
   ],
   "source": [
    "s[5:20]"
   ]
  },
  {
   "cell_type": "code",
   "execution_count": 52,
   "metadata": {
    "collapsed": false
   },
   "outputs": [
    {
     "data": {
      "text/plain": [
       "''"
      ]
     },
     "execution_count": 52,
     "metadata": {},
     "output_type": "execute_result"
    }
   ],
   "source": [
    "s[20:]"
   ]
  },
  {
   "cell_type": "code",
   "execution_count": 53,
   "metadata": {
    "collapsed": false
   },
   "outputs": [
    {
     "ename": "IndexError",
     "evalue": "string index out of range",
     "output_type": "error",
     "traceback": [
      "\u001b[1;31m---------------------------------------------------------------------------\u001b[0m",
      "\u001b[1;31mIndexError\u001b[0m                                Traceback (most recent call last)",
      "\u001b[1;32m<ipython-input-53-7e8ece4b37b8>\u001b[0m in \u001b[0;36m<module>\u001b[1;34m()\u001b[0m\n\u001b[1;32m----> 1\u001b[1;33m \u001b[0ms\u001b[0m\u001b[1;33m[\u001b[0m\u001b[1;36m20\u001b[0m\u001b[1;33m]\u001b[0m\u001b[1;33m\u001b[0m\u001b[0m\n\u001b[0m",
      "\u001b[1;31mIndexError\u001b[0m: string index out of range"
     ]
    }
   ],
   "source": [
    "s[20]"
   ]
  },
  {
   "cell_type": "code",
   "execution_count": 54,
   "metadata": {
    "collapsed": false
   },
   "outputs": [
    {
     "name": "stdout",
     "output_type": "stream",
     "text": [
      "program started\n",
      "iteration started\n",
      "i= a\n",
      "iteration ended\n",
      "iteration started\n",
      "i= b\n",
      "iteration ended\n",
      "iteration started\n",
      "i= c\n",
      "iteration ended\n",
      "program ending statements\n"
     ]
    }
   ],
   "source": [
    "print \"program started\"\n",
    "for i in \"abc\":\n",
    "    print \"iteration started\"\n",
    "    print \"i=\",i\n",
    "    print \"iteration ended\"\n",
    "print \"program ending statements\""
   ]
  },
  {
   "cell_type": "code",
   "execution_count": 55,
   "metadata": {
    "collapsed": false
   },
   "outputs": [
    {
     "name": "stdout",
     "output_type": "stream",
     "text": [
      "program started\n",
      "iteration started\n",
      "i=\n",
      "iteration ended\n",
      "iteration started\n",
      "i=\n",
      "iteration ended\n",
      "iteration started\n",
      "i=\n",
      "iteration ended\n",
      "program ending statements\n"
     ]
    }
   ],
   "source": [
    "print \"program started\"\n",
    "for i in \"abc\":\n",
    "    print \"iteration started\"\n",
    "    print \"i=\"\n",
    "    print \"iteration ended\"\n",
    "print \"program ending statements\""
   ]
  },
  {
   "cell_type": "code",
   "execution_count": 56,
   "metadata": {
    "collapsed": false
   },
   "outputs": [
    {
     "data": {
      "text/plain": [
       "<enumerate at 0x7fb7e42e60f0>"
      ]
     },
     "execution_count": 56,
     "metadata": {},
     "output_type": "execute_result"
    }
   ],
   "source": [
    "enumerate(\"abc\")"
   ]
  },
  {
   "cell_type": "code",
   "execution_count": 58,
   "metadata": {
    "collapsed": false
   },
   "outputs": [
    {
     "name": "stdout",
     "output_type": "stream",
     "text": [
      "0 a\n",
      "1 b\n",
      "2 c\n",
      "3 d\n"
     ]
    }
   ],
   "source": [
    "for i,j in enumerate(\"abcd\"):\n",
    "    print i,j"
   ]
  },
  {
   "cell_type": "code",
   "execution_count": 59,
   "metadata": {
    "collapsed": true
   },
   "outputs": [],
   "source": [
    "a,b,c=10,20,30"
   ]
  },
  {
   "cell_type": "code",
   "execution_count": 60,
   "metadata": {
    "collapsed": false
   },
   "outputs": [
    {
     "name": "stdout",
     "output_type": "stream",
     "text": [
      "10\n",
      "20\n",
      "30\n"
     ]
    }
   ],
   "source": [
    "print a\n",
    "print b\n",
    "print c"
   ]
  },
  {
   "cell_type": "code",
   "execution_count": 61,
   "metadata": {
    "collapsed": false
   },
   "outputs": [
    {
     "name": "stdout",
     "output_type": "stream",
     "text": [
      "program started\n",
      "iteration started\n",
      "iteration ended\n",
      "iteration started\n",
      "iteration ended\n",
      "iteration started\n",
      "iteration ended\n",
      "i= c\n",
      "program ending statements\n"
     ]
    }
   ],
   "source": [
    "print \"program started\"\n",
    "for i in \"abc\":\n",
    "    print \"iteration started\"\n",
    "    print \"iteration ended\"\n",
    "print \"i=\",i\n",
    "print \"program ending statements\""
   ]
  },
  {
   "cell_type": "code",
   "execution_count": 63,
   "metadata": {
    "collapsed": false
   },
   "outputs": [
    {
     "name": "stdout",
     "output_type": "stream",
     "text": [
      "program started\n",
      "iteration started\n",
      "iteration ended\n",
      "iteration started\n",
      "iteration ended\n",
      "iteration started\n",
      "iteration ended\n",
      "i= 2 j= c\n",
      "program ending statements\n"
     ]
    }
   ],
   "source": [
    "print \"program started\"\n",
    "for i,j in enumerate(\"abc\"):\n",
    "    print \"iteration started\"\n",
    "    print \"iteration ended\"\n",
    "print \"i=\",i,\"j=\",j\n",
    "print \"program ending statements\""
   ]
  },
  {
   "cell_type": "code",
   "execution_count": 64,
   "metadata": {
    "collapsed": false
   },
   "outputs": [
    {
     "name": "stdout",
     "output_type": "stream",
     "text": [
      "program started\n",
      "iteration started\n",
      "iteration ended\n",
      "iteration started\n",
      "iteration ended\n",
      "i= 2\n",
      "program ending statements\n"
     ]
    }
   ],
   "source": [
    "print \"program started\"\n",
    "i=0\n",
    "while i<2:\n",
    "    print \"iteration started\"\n",
    "    print \"iteration ended\"\n",
    "    i=i+1\n",
    "print \"i=\",i\n",
    "print \"program ending statements\""
   ]
  },
  {
   "cell_type": "code",
   "execution_count": 65,
   "metadata": {
    "collapsed": false
   },
   "outputs": [
    {
     "name": "stdout",
     "output_type": "stream",
     "text": [
      "program started\n",
      "Enter value to iterate: a b c\n",
      "iteration started\n",
      "i= p\n",
      "iteration ended\n",
      "iteration started\n",
      "i= y\n",
      "iteration ended\n",
      "iteration started\n",
      "i= t\n",
      "iteration ended\n",
      "iteration started\n",
      "i= h\n",
      "iteration ended\n",
      "iteration started\n",
      "i= o\n",
      "iteration ended\n",
      "iteration started\n",
      "i= n\n",
      "iteration ended\n",
      "iteration started\n",
      "other statement in program\n",
      "program ending statements\n"
     ]
    }
   ],
   "source": [
    "# looping control statements: break and continue\n",
    "print \"program started\"\n",
    "a=raw_input(\"Enter value to iterate: \")\n",
    "for i in \"python program\":\n",
    "    print \"iteration started\"\n",
    "    if i==\" \":\n",
    "        break\n",
    "    print \"i=\",i\n",
    "    print \"iteration ended\"\n",
    "print \"other statement in program\"\n",
    "print \"program ending statements\""
   ]
  },
  {
   "cell_type": "code",
   "execution_count": 66,
   "metadata": {
    "collapsed": false
   },
   "outputs": [
    {
     "name": "stdout",
     "output_type": "stream",
     "text": [
      "program started\n",
      "Enter value to iterate: p q r\n",
      "iteration started\n",
      "i= p\n",
      "iteration ended\n",
      "iteration started\n",
      "other statement in program\n",
      "program ending statements\n"
     ]
    }
   ],
   "source": [
    "# looping control statements: break and continue\n",
    "print \"program started\"\n",
    "a=raw_input(\"Enter value to iterate: \")\n",
    "for i in a:\n",
    "    print \"iteration started\"\n",
    "    if i==\" \":\n",
    "        break\n",
    "    print \"i=\",i\n",
    "    print \"iteration ended\"\n",
    "print \"other statement in program\"\n",
    "print \"program ending statements\""
   ]
  },
  {
   "cell_type": "code",
   "execution_count": 67,
   "metadata": {
    "collapsed": false
   },
   "outputs": [
    {
     "name": "stdout",
     "output_type": "stream",
     "text": [
      "program started\n",
      "Enter value to iterate: p q r\n",
      "iteration started\n",
      "i= p\n",
      "iteration ended\n",
      "iteration started\n",
      "got a spce going out from loop\n",
      "other statement in program\n",
      "program ending statements\n"
     ]
    }
   ],
   "source": [
    "# looping control statements: break and continue\n",
    "print \"program started\"\n",
    "a=raw_input(\"Enter value to iterate: \")\n",
    "for i in a:\n",
    "    print \"iteration started\"\n",
    "    if i==\" \":\n",
    "        print \"got a spce going out from loop\"\n",
    "        break\n",
    "    print \"i=\",i\n",
    "    print \"iteration ended\"\n",
    "print \"other statement in program\"\n",
    "print \"program ending statements\""
   ]
  },
  {
   "cell_type": "code",
   "execution_count": 69,
   "metadata": {
    "collapsed": false
   },
   "outputs": [
    {
     "name": "stdout",
     "output_type": "stream",
     "text": [
      "program started\n",
      "Enter value to iterate: a b c\n",
      "iteration started\n",
      "i= a\n",
      "iteration ended\n",
      "iteration started\n",
      "got a spce going out from loop\n",
      "other statement in program\n",
      "program ending statements\n"
     ]
    }
   ],
   "source": [
    "# looping control statements: break and continue\n",
    "print \"program started\"\n",
    "a=raw_input(\"Enter value to iterate: \")\n",
    "i=0\n",
    "while i<len(a):\n",
    "    print \"iteration started\"\n",
    "    if a[i]==\" \":\n",
    "        print \"got a spce going out from loop\"\n",
    "        break\n",
    "    print \"i=\",a[i]\n",
    "    i=i+1\n",
    "    print \"iteration ended\"\n",
    "print \"other statement in program\"\n",
    "print \"program ending statements\""
   ]
  },
  {
   "cell_type": "code",
   "execution_count": 70,
   "metadata": {
    "collapsed": false
   },
   "outputs": [
    {
     "name": "stdout",
     "output_type": "stream",
     "text": [
      "0\n"
     ]
    }
   ],
   "source": [
    "i=0\n",
    "while i<10:\n",
    "    break\n",
    "    i=i+1\n",
    "print i"
   ]
  },
  {
   "cell_type": "code",
   "execution_count": 71,
   "metadata": {
    "collapsed": false
   },
   "outputs": [
    {
     "name": "stdout",
     "output_type": "stream",
     "text": [
      "1\n"
     ]
    }
   ],
   "source": [
    "i=0\n",
    "while i<10:\n",
    "    i=i+1\n",
    "    break\n",
    "print i"
   ]
  },
  {
   "cell_type": "code",
   "execution_count": 72,
   "metadata": {
    "collapsed": true
   },
   "outputs": [],
   "source": [
    "for i in \"python\":\n",
    "    break\n",
    "    print i"
   ]
  },
  {
   "cell_type": "code",
   "execution_count": 73,
   "metadata": {
    "collapsed": false
   },
   "outputs": [
    {
     "name": "stdout",
     "output_type": "stream",
     "text": [
      "p\n"
     ]
    }
   ],
   "source": [
    "for i in \"python\":\n",
    "    break\n",
    "print i"
   ]
  },
  {
   "cell_type": "code",
   "execution_count": 74,
   "metadata": {
    "collapsed": true
   },
   "outputs": [],
   "source": [
    "for i in \"pythojn\":\n",
    "    if i==\"t\":\n",
    "        break"
   ]
  },
  {
   "cell_type": "code",
   "execution_count": 75,
   "metadata": {
    "collapsed": false
   },
   "outputs": [
    {
     "ename": "SyntaxError",
     "evalue": "'break' outside loop (<ipython-input-75-846680bbce6f>, line 2)",
     "output_type": "error",
     "traceback": [
      "\u001b[1;36m  File \u001b[1;32m\"<ipython-input-75-846680bbce6f>\"\u001b[1;36m, line \u001b[1;32m2\u001b[0m\n\u001b[1;33m    break\u001b[0m\n\u001b[1;31mSyntaxError\u001b[0m\u001b[1;31m:\u001b[0m 'break' outside loop\n"
     ]
    }
   ],
   "source": [
    "if i==10:\n",
    "    break"
   ]
  },
  {
   "cell_type": "code",
   "execution_count": 76,
   "metadata": {
    "collapsed": false
   },
   "outputs": [
    {
     "name": "stdout",
     "output_type": "stream",
     "text": [
      "p j\n",
      "p a\n",
      "p v\n",
      "p a\n",
      "y j\n",
      "y a\n",
      "y v\n",
      "y a\n",
      "t j\n",
      "t a\n",
      "t v\n",
      "t a\n",
      "h j\n",
      "h a\n",
      "h v\n",
      "h a\n",
      "o j\n",
      "o a\n",
      "o v\n",
      "o a\n",
      "n j\n",
      "n a\n",
      "n v\n",
      "n a\n"
     ]
    }
   ],
   "source": [
    "# looping control statements: break and continue\n",
    "for i in \"python\":\n",
    "    for j in \"java\":\n",
    "        print i,j\n"
   ]
  },
  {
   "cell_type": "code",
   "execution_count": 77,
   "metadata": {
    "collapsed": false
   },
   "outputs": [
    {
     "name": "stdout",
     "output_type": "stream",
     "text": [
      "p j\n",
      "p a\n",
      "y j\n",
      "y a\n",
      "t j\n",
      "t a\n",
      "h j\n",
      "h a\n",
      "o j\n",
      "o a\n",
      "n j\n",
      "n a\n"
     ]
    }
   ],
   "source": [
    "# looping control statements: break and continue\n",
    "for i in \"python\":\n",
    "    for j in \"java\":\n",
    "        print i,j\n",
    "        if j==\"a\":\n",
    "            break\n"
   ]
  },
  {
   "cell_type": "code",
   "execution_count": 78,
   "metadata": {
    "collapsed": false
   },
   "outputs": [
    {
     "name": "stdout",
     "output_type": "stream",
     "text": [
      "program started\n",
      "Enter value to iterate: abc\n",
      "iteration started\n",
      "i= a\n",
      "iteration ended\n",
      "iteration started\n",
      "i= b\n",
      "iteration ended\n",
      "iteration started\n",
      "i= c\n",
      "iteration ended\n",
      "other statement in program\n",
      "program ending statements\n"
     ]
    }
   ],
   "source": [
    "# looping control statements: break and continue\n",
    "print \"program started\"\n",
    "a=raw_input(\"Enter value to iterate: \")\n",
    "for i in a:\n",
    "    print \"iteration started\"\n",
    "    print \"i=\",i\n",
    "    print \"iteration ended\"\n",
    "    continue\n",
    "print \"other statement in program\"\n",
    "print \"program ending statements\""
   ]
  },
  {
   "cell_type": "code",
   "execution_count": 79,
   "metadata": {
    "collapsed": false
   },
   "outputs": [
    {
     "name": "stdout",
     "output_type": "stream",
     "text": [
      "program started\n",
      "Enter value to iterate: abc\n",
      "iteration started\n",
      "i= a\n",
      "iteration ended\n",
      "iteration started\n",
      "i= b\n",
      "iteration ended\n",
      "iteration started\n",
      "i= c\n",
      "iteration ended\n",
      "other statement in program\n",
      "program ending statements\n"
     ]
    }
   ],
   "source": [
    "# looping control statements: break and continue\n",
    "print \"program started\"\n",
    "a=raw_input(\"Enter value to iterate: \")\n",
    "for i in a:\n",
    "    print \"iteration started\"\n",
    "    print \"i=\",i\n",
    "    print \"iteration ended\"\n",
    "print \"other statement in program\"\n",
    "print \"program ending statements\""
   ]
  },
  {
   "cell_type": "code",
   "execution_count": 80,
   "metadata": {
    "collapsed": false
   },
   "outputs": [
    {
     "name": "stdout",
     "output_type": "stream",
     "text": [
      "program started\n",
      "Enter value to iterate: abcd\n",
      "iteration started\n",
      "iteration started\n",
      "iteration started\n",
      "iteration started\n",
      "other statement in program\n",
      "program ending statements\n"
     ]
    }
   ],
   "source": [
    "# looping control statements: break and continue\n",
    "print \"program started\"\n",
    "a=raw_input(\"Enter value to iterate: \")\n",
    "for i in a:\n",
    "    print \"iteration started\"\n",
    "    continue\n",
    "    print \"i=\",i\n",
    "    print \"iteration ended\"\n",
    "print \"other statement in program\"\n",
    "print \"program ending statements\""
   ]
  },
  {
   "cell_type": "code",
   "execution_count": 81,
   "metadata": {
    "collapsed": false
   },
   "outputs": [
    {
     "name": "stdout",
     "output_type": "stream",
     "text": [
      "program started\n",
      "Enter value to iterate: abc def ghi\n",
      "i= a\n",
      "i= b\n",
      "i= c\n",
      "i= d\n",
      "i= e\n",
      "i= f\n",
      "i= g\n",
      "i= h\n",
      "i= i\n",
      "other statement in program\n",
      "program ending statements\n"
     ]
    }
   ],
   "source": [
    "# looping control statements: break and continue\n",
    "print \"program started\"\n",
    "a=raw_input(\"Enter value to iterate: \")\n",
    "for i in a:\n",
    "    if i==\" \":\n",
    "        continue\n",
    "    print \"i=\",i\n",
    "print \"other statement in program\"\n",
    "print \"program ending statements\""
   ]
  },
  {
   "cell_type": "code",
   "execution_count": 82,
   "metadata": {
    "collapsed": false
   },
   "outputs": [
    {
     "name": "stdout",
     "output_type": "stream",
     "text": [
      "n\n"
     ]
    }
   ],
   "source": [
    "for i in \"python\":\n",
    "    continue\n",
    "print i"
   ]
  },
  {
   "cell_type": "code",
   "execution_count": 83,
   "metadata": {
    "collapsed": false
   },
   "outputs": [
    {
     "name": "stdout",
     "output_type": "stream",
     "text": [
      "p\n"
     ]
    }
   ],
   "source": [
    "for i in \"python\":\n",
    "    break\n",
    "print i"
   ]
  },
  {
   "cell_type": "code",
   "execution_count": null,
   "metadata": {
    "collapsed": true
   },
   "outputs": [],
   "source": [
    "i=0\n",
    "while i<10:\n",
    "    if i==2:\n",
    "        continue\n",
    "    print i\n",
    "    i=i+1"
   ]
  },
  {
   "cell_type": "code",
   "execution_count": 85,
   "metadata": {
    "collapsed": false
   },
   "outputs": [
    {
     "name": "stdout",
     "output_type": "stream",
     "text": [
      "20\n",
      "10\n",
      "dfssdfs\n"
     ]
    }
   ],
   "source": [
    "# pep8 errors\n",
    "a=input()\n",
    "b=input()\n",
    "if  a>b:\n",
    "    print \"dfssdfs\""
   ]
  },
  {
   "cell_type": "code",
   "execution_count": 86,
   "metadata": {
    "collapsed": false
   },
   "outputs": [
    {
     "ename": "IndentationError",
     "evalue": "expected an indented block (<ipython-input-86-2216e3b8958f>, line 6)",
     "output_type": "error",
     "traceback": [
      "\u001b[1;36m  File \u001b[1;32m\"<ipython-input-86-2216e3b8958f>\"\u001b[1;36m, line \u001b[1;32m6\u001b[0m\n\u001b[1;33m    else:\u001b[0m\n\u001b[1;37m         ^\u001b[0m\n\u001b[1;31mIndentationError\u001b[0m\u001b[1;31m:\u001b[0m expected an indented block\n"
     ]
    }
   ],
   "source": [
    "# pep8 errors\n",
    "a=input()\n",
    "b=input()\n",
    "if  a>b:\n",
    "    print \"dfssdfs\"\n",
    "else:"
   ]
  },
  {
   "cell_type": "code",
   "execution_count": 87,
   "metadata": {
    "collapsed": false
   },
   "outputs": [
    {
     "name": "stdout",
     "output_type": "stream",
     "text": [
      "12\n",
      "23\n"
     ]
    }
   ],
   "source": [
    "# pep8 errors\n",
    "a=input()\n",
    "b=input()\n",
    "if  a>b:\n",
    "    print \"dfssdfs\"\n",
    "else:\n",
    "    pass"
   ]
  },
  {
   "cell_type": "code",
   "execution_count": 88,
   "metadata": {
    "collapsed": false
   },
   "outputs": [
    {
     "name": "stdout",
     "output_type": "stream",
     "text": [
      "10\n",
      "20\n",
      "sdfsdf\n"
     ]
    }
   ],
   "source": [
    "# pep8 errors\n",
    "a=input()\n",
    "b=input()\n",
    "if  a>b:\n",
    "    print \"dfssdfs\"\n",
    "else:\n",
    "    pass\n",
    "    print \"sdfsdf\""
   ]
  },
  {
   "cell_type": "code",
   "execution_count": null,
   "metadata": {
    "collapsed": true
   },
   "outputs": [],
   "source": []
  }
 ],
 "metadata": {
  "kernelspec": {
   "display_name": "Python 2",
   "language": "python",
   "name": "python2"
  },
  "language_info": {
   "codemirror_mode": {
    "name": "ipython",
    "version": 2
   },
   "file_extension": ".py",
   "mimetype": "text/x-python",
   "name": "python",
   "nbconvert_exporter": "python",
   "pygments_lexer": "ipython2",
   "version": "2.7.11"
  }
 },
 "nbformat": 4,
 "nbformat_minor": 0
}
